{
 "cells": [
  {
   "cell_type": "code",
   "execution_count": 1,
   "metadata": {},
   "outputs": [],
   "source": [
    "import pandas as pd\n",
    "import numpy as np\n",
    "from pandas.api.types import is_datetime64_any_dtype as is_datetime\n",
    "import seaborn as sns\n",
    "import matplotlib.pyplot as plt"
   ]
  },
  {
   "cell_type": "code",
   "execution_count": 40,
   "metadata": {},
   "outputs": [
    {
     "name": "stdout",
     "output_type": "stream",
     "text": [
      "                               Tip unitate        Nume Unitate Tip categorie   \n",
      "Numar Inregistrare                                                             \n",
      "J12/1823/1991       PENSIUNE AGROTURISTICĂ           PĂSTRĂVUL   3 MARGARETE  \\\n",
      "J12/4339/1991       PENSIUNE AGROTURISTICĂ       CASA PETRU II       2 FLORI   \n",
      "J12/4339/1991       PENSIUNE AGROTURISTICĂ   CASA PETRU STOLNA       2 FLORI   \n",
      "J19/694/1992        PENSIUNE AGROTURISTICĂ                VARI   3 MARGARETE   \n",
      "J33/765/1991        PENSIUNE AGROTURISTICĂ             LUCIANO       3 FLORI   \n",
      "...                                    ...                 ...           ...   \n",
      "J36/483/2006        PENSIUNE AGROTURISTICĂ             VASILIU       2 FLORI   \n",
      "F38/394/2010        PENSIUNE AGROTURISTICĂ              ARNOTA       2 FLORI   \n",
      "F38/709/2008        PENSIUNE AGROTURISTICĂ      CASA FILOXENIA       3 FLORI   \n",
      "F38/532/2006        PENSIUNE AGROTURISTICĂ         STOICA ILIE       2 FLORI   \n",
      "J/38/1264/1994      PENSIUNE AGROTURISTICĂ  POPASUL HAIDUCULUI       3 FLORI   \n",
      "\n",
      "                    Numar spatii  Numar locuri        Alte Detalii Adresa   \n",
      "Numar Inregistrare                                                          \n",
      "J12/1823/1991                  7            15                  Nr. 138/A  \\\n",
      "J12/4339/1991                  3             6                    Nr. 47A   \n",
      "J12/4339/1991                  3             6                    nr. 47A   \n",
      "J19/694/1992                   5            10   Str. Principală, Nr. 151   \n",
      "J33/765/1991                  15            29                    nr. 549   \n",
      "...                          ...           ...                        ...   \n",
      "J36/483/2006                   6            12  strada Principală nr.180A   \n",
      "F38/394/2010                   4             9                    NR. 322   \n",
      "F38/709/2008                   5            10     STR. MANASTIRII, NR. 8   \n",
      "F38/532/2006                   4             8                    NR. 106   \n",
      "J/38/1264/1994                10            21      STR. GROTULUI, BL. B6   \n",
      "\n",
      "                   Tip Localitate      Localitate Tip Localitate Componenta   \n",
      "Numar Inregistrare                                                            \n",
      "J12/1823/1991                com.  Muguri-Răcătău                       sat  \\\n",
      "J12/4339/1991                com.       Savadisla                       sat   \n",
      "J12/4339/1991                com.       Savadisla                       sat   \n",
      "J19/694/1992                 com.           Zetea                       sat   \n",
      "J33/765/1991                 com.    Fântâna Mare                       sat   \n",
      "...                           ...             ...                       ...   \n",
      "J36/483/2006                 com.          Crișan                       sat   \n",
      "F38/394/2010                 com.        Costești                       sat   \n",
      "F38/709/2008                 oraș          Horezu     localitate componentă   \n",
      "F38/532/2006                 com.         Tomșani                       sat   \n",
      "J/38/1264/1994               com.        Voineasa                       sat   \n",
      "\n",
      "                   Localitate Componenta  ... Numar mediu de angajați 2018   \n",
      "Numar Inregistrare                        ...                                \n",
      "J12/1823/1991               Muntele Rece  ...                          NaN  \\\n",
      "J12/4339/1991                     Stolna  ...                          1.0   \n",
      "J12/4339/1991                     Stolna  ...                          1.0   \n",
      "J19/694/1992                  Sub Cetate  ...                         17.0   \n",
      "J33/765/1991                  SPATARESTI  ...                          9.0   \n",
      "...                                  ...  ...                          ...   \n",
      "J36/483/2006                      CRISAN  ...                          4.0   \n",
      "F38/394/2010                    COSTESTI  ...                          4.0   \n",
      "F38/709/2008              ROMANII DE JOS  ...                          4.0   \n",
      "F38/532/2006                  BOGDANESTI  ...                          4.0   \n",
      "J/38/1264/1994                  Voineasa  ...                          4.0   \n",
      "\n",
      "                               Rating Număr de Recenzii  Altitudine   \n",
      "Numar Inregistrare                                                    \n",
      "J12/1823/1991                     4,8              60.0  460.932098  \\\n",
      "J12/4339/1991       nu exista valoare               NaN  437.595581   \n",
      "J12/4339/1991       nu exista valoare               NaN  437.595581   \n",
      "J19/694/1992                      5,0               NaN  759.586914   \n",
      "J33/765/1991                      3,9             187.0  523.018066   \n",
      "...                               ...               ...         ...   \n",
      "J36/483/2006        nu exista valoare               NaN  891.215332   \n",
      "F38/394/2010                      4,8              59.0  891.215332   \n",
      "F38/709/2008                      4,3              76.0  891.215332   \n",
      "F38/532/2006        nu exista valoare               NaN  557.843689   \n",
      "J/38/1264/1994      nu exista valoare               NaN  660.893188   \n",
      "\n",
      "                   Latitudine Longitudine Temperatura maxima medie   \n",
      "Numar Inregistrare                                                   \n",
      "J12/1823/1991       46.644970   23.283053                10.865000  \\\n",
      "J12/4339/1991       46.711719   23.400644                14.074737   \n",
      "J12/4339/1991       46.711719   23.400644                14.074737   \n",
      "J19/694/1992        46.444268   25.392188                13.881842   \n",
      "J33/765/1991        47.427728   26.299804                13.837105   \n",
      "...                       ...         ...                      ...   \n",
      "J36/483/2006        47.197257   25.263759                10.322105   \n",
      "F38/394/2010        47.197257   25.263759                10.322105   \n",
      "F38/709/2008        47.197257   25.263759                10.322105   \n",
      "F38/532/2006        47.774637   25.706188                12.830526   \n",
      "J/38/1264/1994      47.564947   25.694516                13.151579   \n",
      "\n",
      "                   Temperatura minima medie  Temperatura medie   \n",
      "Numar Inregistrare                                               \n",
      "J12/1823/1991                      2.830526           6.847763  \\\n",
      "J12/4339/1991                      4.653947           9.364342   \n",
      "J12/4339/1991                      4.653947           9.364342   \n",
      "J19/694/1992                       5.058947           9.470395   \n",
      "J33/765/1991                       5.130789           9.483947   \n",
      "...                                     ...                ...   \n",
      "J36/483/2006                       2.840789           6.581447   \n",
      "F38/394/2010                       2.840789           6.581447   \n",
      "F38/709/2008                       2.840789           6.581447   \n",
      "F38/532/2006                       4.516316           8.673421   \n",
      "J/38/1264/1994                     4.939211           9.045395   \n",
      "\n",
      "                    Precipitatiile zilnice medii  \n",
      "Numar Inregistrare                                \n",
      "J12/1823/1991                           3.675526  \n",
      "J12/4339/1991                           2.388684  \n",
      "J12/4339/1991                           2.388684  \n",
      "J19/694/1992                            2.093947  \n",
      "J33/765/1991                            1.825789  \n",
      "...                                          ...  \n",
      "J36/483/2006                            2.925789  \n",
      "F38/394/2010                            2.925789  \n",
      "F38/709/2008                            2.925789  \n",
      "F38/532/2006                            2.101053  \n",
      "J/38/1264/1994                          2.138947  \n",
      "\n",
      "[454 rows x 47 columns]\n"
     ]
    }
   ],
   "source": [
    "df = pd.read_excel(\"date_python.xlsx\",index_col=\"Numar Inregistrare\")\n",
    "print(df)"
   ]
  },
  {
   "attachments": {},
   "cell_type": "markdown",
   "metadata": {},
   "source": [
    "## Corelatie rating si profit"
   ]
  },
  {
   "cell_type": "code",
   "execution_count": 43,
   "metadata": {},
   "outputs": [],
   "source": [
    "def median_profit(row):\n",
    "    values = row[['Profit net 2021', 'Profit net 2020', 'Profit net 2019', 'Profit net 2018']].dropna()\n",
    "    \n",
    "    if len(values) <= 1:\n",
    "        return np.nan\n",
    "    else:\n",
    "        return values.median()\n",
    "\n",
    "# Create a new column with the median fiscal value\n",
    "df['Profit_medie'] = df.apply(median_profit, axis=1)"
   ]
  },
  {
   "cell_type": "code",
   "execution_count": 21,
   "metadata": {},
   "outputs": [],
   "source": [
    "def costuri_medie(row):\n",
    "    values = row[['Numar mediu de angajați 2021', 'Numar mediu de angajați 2020', 'Numar mediu de angajați 2019', 'Numar mediu de angajați 2018']].dropna()\n",
    "    \n",
    "    if len(values) <= 1:\n",
    "        return np.nan\n",
    "    else:\n",
    "        return values.median()\n",
    "\n",
    "# Create a new column with the median fiscal value\n",
    "df['Costuri_medie'] = df.apply(costuri_medie, axis=1)"
   ]
  },
  {
   "cell_type": "code",
   "execution_count": 22,
   "metadata": {},
   "outputs": [],
   "source": [
    "def median_fiscal_value(row):\n",
    "    values = row[['Cifra de afaceri neta 2021', 'Cifra de afaceri neta 2020', 'Cifra de afaceri neta 2019', 'Cifra de afaceri neta 2018']].dropna()\n",
    "    \n",
    "    if len(values) <= 1:\n",
    "        return np.nan\n",
    "    else:\n",
    "        return values.median()\n",
    "\n",
    "# Create a new column with the median fiscal value\n",
    "df['CA_medie'] = df.apply(median_fiscal_value, axis=1)"
   ]
  },
  {
   "cell_type": "code",
   "execution_count": 23,
   "metadata": {},
   "outputs": [],
   "source": [
    "def nr_angaj_medie(row):\n",
    "    values = row[['Numar mediu de angajați 2021', 'Numar mediu de angajați 2020', 'Numar mediu de angajați 2019', 'Numar mediu de angajați 2018']].dropna()\n",
    "    \n",
    "    if len(values) <= 1:\n",
    "        return np.nan\n",
    "    else:\n",
    "        return values.median()\n",
    "\n",
    "# Create a new column with the median fiscal value\n",
    "df['Angajati_medie'] = df.apply(costuri_medie, axis=1)"
   ]
  },
  {
   "cell_type": "code",
   "execution_count": 24,
   "metadata": {},
   "outputs": [
    {
     "name": "stdout",
     "output_type": "stream",
     "text": [
      "Numar Inregistrare\n",
      "J12/1823/1991     4,8\n",
      "J12/4339/1991     NaN\n",
      "J12/4339/1991     NaN\n",
      "J19/694/1992      5,0\n",
      "J33/765/1991      3,9\n",
      "                 ... \n",
      "J36/483/2006      NaN\n",
      "F38/394/2010      4,8\n",
      "F38/709/2008      4,3\n",
      "F38/532/2006      NaN\n",
      "J/38/1264/1994    NaN\n",
      "Name: Rating, Length: 454, dtype: object\n"
     ]
    }
   ],
   "source": [
    "df['Rating'].replace('nu exista valoare', np.nan, inplace=True)\n",
    "print(df[\"Rating\"])\n",
    "# df_filtered = df.dropna(subset=['Rating'])\n"
   ]
  },
  {
   "cell_type": "code",
   "execution_count": 25,
   "metadata": {},
   "outputs": [
    {
     "name": "stdout",
     "output_type": "stream",
     "text": [
      "182\n"
     ]
    }
   ],
   "source": [
    "nan_count = df[\"Rating\"].isna().sum()\n",
    "print(nan_count)\n"
   ]
  },
  {
   "cell_type": "code",
   "execution_count": 8,
   "metadata": {},
   "outputs": [
    {
     "name": "stdout",
     "output_type": "stream",
     "text": [
      "                               Tip unitate      Nume Unitate Tip categorie   \n",
      "Numar Inregistrare                                                           \n",
      "J12/1823/1991       PENSIUNE AGROTURISTICĂ         PĂSTRĂVUL   3 MARGARETE  \\\n",
      "J19/694/1992        PENSIUNE AGROTURISTICĂ              VARI   3 MARGARETE   \n",
      "J33/765/1991        PENSIUNE AGROTURISTICĂ           LUCIANO       3 FLORI   \n",
      "J8/2038/1991        PENSIUNE AGROTURISTICĂ        FLORENTINA       3 FLORI   \n",
      "J35/1100/1992       PENSIUNE AGROTURISTICĂ         EDEN R.V.       3 FLORI   \n",
      "...                                    ...               ...           ...   \n",
      "F33/966/2010        PENSIUNE AGROTURISTICĂ      CASA MARIANA       2 FLORI   \n",
      "F33/810/2005        PENSIUNE AGROTURISTICĂ   POARTA CĂLIMANI       2 FLORI   \n",
      "J33/1056/1995       PENSIUNE AGROTURISTICĂ  CASA VERO CORP A       4 FLORI   \n",
      "F38/394/2010        PENSIUNE AGROTURISTICĂ            ARNOTA       2 FLORI   \n",
      "F38/709/2008        PENSIUNE AGROTURISTICĂ    CASA FILOXENIA       3 FLORI   \n",
      "\n",
      "                    Numar spatii  Numar locuri       Alte Detalii Adresa   \n",
      "Numar Inregistrare                                                         \n",
      "J12/1823/1991                  7            15                 Nr. 138/A  \\\n",
      "J19/694/1992                   5            10  Str. Principală, Nr. 151   \n",
      "J33/765/1991                  15            29                   nr. 549   \n",
      "J8/2038/1991                   7            14                   nr. 215   \n",
      "J35/1100/1992                  8            18     Calea Moţilor, nr. FN   \n",
      "...                          ...           ...                       ...   \n",
      "F33/966/2010                   4             8                   NR. 142   \n",
      "F33/810/2005                   3             6                   NR. 119   \n",
      "J33/1056/1995                  6            12      STR. DOABRA, NR. 27A   \n",
      "F38/394/2010                   4             9                   NR. 322   \n",
      "F38/709/2008                   5            10    STR. MANASTIRII, NR. 8   \n",
      "\n",
      "                   Tip Localitate      Localitate Tip Localitate Componenta   \n",
      "Numar Inregistrare                                                            \n",
      "J12/1823/1991                com.  Muguri-Răcătău                       sat  \\\n",
      "J19/694/1992                 com.           Zetea                       sat   \n",
      "J33/765/1991                 com.    Fântâna Mare                       sat   \n",
      "J8/2038/1991                 com.         Moieciu                       sat   \n",
      "J35/1100/1992                oraș        Jimbolia                       NaN   \n",
      "...                           ...             ...                       ...   \n",
      "F33/966/2010                 com.     Șaru Dornei                       sat   \n",
      "F33/810/2005                 com.     Șaru Dornei                       sat   \n",
      "J33/1056/1995                com.            Vama                       NaN   \n",
      "F38/394/2010                 com.        Costești                       sat   \n",
      "F38/709/2008                 oraș          Horezu     localitate componentă   \n",
      "\n",
      "                   Localitate Componenta  ... Latitudine Longitudine   \n",
      "Numar Inregistrare                        ...                          \n",
      "J12/1823/1991               Muntele Rece  ...  46.644970   23.283053  \\\n",
      "J19/694/1992                  Sub Cetate  ...  46.444268   25.392188   \n",
      "J33/765/1991                  SPATARESTI  ...  47.427728   26.299804   \n",
      "J8/2038/1991              MOIECIU DE SUS  ...  45.443346   25.330398   \n",
      "J35/1100/1992                        NaN  ...  45.800203   20.718473   \n",
      "...                                  ...  ...        ...         ...   \n",
      "F33/966/2010                 GURA HAITII  ...  47.197257   25.263759   \n",
      "F33/810/2005                 GURA HAITII  ...  47.197257   25.263759   \n",
      "J33/1056/1995                        NaN  ...  47.537170   25.511060   \n",
      "F38/394/2010                    COSTESTI  ...  47.197257   25.263759   \n",
      "F38/709/2008              ROMANII DE JOS  ...  47.197257   25.263759   \n",
      "\n",
      "                   Temperatura maxima medie Temperatura minima medie   \n",
      "Numar Inregistrare                                                     \n",
      "J12/1823/1991                     10.865000                 2.830526  \\\n",
      "J19/694/1992                      13.881842                 5.058947   \n",
      "J33/765/1991                      13.837105                 5.130789   \n",
      "J8/2038/1991                      12.200789                 3.900526   \n",
      "J35/1100/1992                     18.164211                 9.237368   \n",
      "...                                     ...                      ...   \n",
      "F33/966/2010                      10.322105                 2.840789   \n",
      "F33/810/2005                      10.322105                 2.840789   \n",
      "J33/1056/1995                     12.443947                 3.966579   \n",
      "F38/394/2010                      10.322105                 2.840789   \n",
      "F38/709/2008                      10.322105                 2.840789   \n",
      "\n",
      "                   Temperatura medie Precipitatiile zilnice medii   \n",
      "Numar Inregistrare                                                  \n",
      "J12/1823/1991               6.847763                     3.675526  \\\n",
      "J19/694/1992                9.470395                     2.093947   \n",
      "J33/765/1991                9.483947                     1.825789   \n",
      "J8/2038/1991                8.050658                     2.751579   \n",
      "J35/1100/1992              13.700789                     1.807895   \n",
      "...                              ...                          ...   \n",
      "F33/966/2010                6.581447                     2.925789   \n",
      "F33/810/2005                6.581447                     2.925789   \n",
      "J33/1056/1995               8.205263                     2.101053   \n",
      "F38/394/2010                6.581447                     2.925789   \n",
      "F38/709/2008                6.581447                     2.925789   \n",
      "\n",
      "                   Profit_medie Costuri_medie  CA_medie  Angajati_medie  \n",
      "Numar Inregistrare                                                       \n",
      "J12/1823/1991           12.2140           1.0   88.0490             1.0  \n",
      "J19/694/1992           319.2555          17.5    2.9935            17.5  \n",
      "J33/765/1991           -19.7735           8.0  261.0955             8.0  \n",
      "J8/2038/1991            12.1445           2.0  443.1685             2.0  \n",
      "J35/1100/1992          378.8175          41.5    5.3500            41.5  \n",
      "...                         ...           ...       ...             ...  \n",
      "F33/966/2010            50.2685           3.0  315.0360             3.0  \n",
      "F33/810/2005            50.2685           3.0  315.0360             3.0  \n",
      "J33/1056/1995           50.2685           3.0  315.0360             3.0  \n",
      "F38/394/2010            50.2685           3.0  315.0360             3.0  \n",
      "F38/709/2008            50.2685           3.0  315.0360             3.0  \n",
      "\n",
      "[272 rows x 51 columns]\n"
     ]
    }
   ],
   "source": [
    "df_filtered = df.dropna(subset=['Rating'])\n",
    "print(df_filtered)"
   ]
  },
  {
   "attachments": {},
   "cell_type": "markdown",
   "metadata": {},
   "source": [
    "## Repartizarea pe web"
   ]
  },
  {
   "cell_type": "code",
   "execution_count": null,
   "metadata": {},
   "outputs": [],
   "source": [
    "def web_presence(row):\n",
    "    if pd.isna(row['Web']):\n",
    "        return None\n",
    "    elif row.str.contains(\"facebook\"):\n",
    "        return 'facebook'\n",
    "    else:\n",
    "        return 'site propriu'\n",
    "df['web presence'] = df.apply(\"Web\", axis=1)\n",
    "print(df['Web'])"
   ]
  },
  {
   "cell_type": "code",
   "execution_count": 41,
   "metadata": {},
   "outputs": [
    {
     "name": "stdout",
     "output_type": "stream",
     "text": [
      "   web_presence   0\n",
      "0      Facebook  47\n",
      "1  site propriu  85\n",
      "NaN values in 'web_presence': 0\n"
     ]
    }
   ],
   "source": [
    "df['web_presence'] = df['Web'].apply(lambda x: 'Facebook' if isinstance(x, str) and 'facebook.com' in x else ('site propriu' if isinstance(x, str) and x.startswith('http') else np.nan))\n",
    "\n",
    "# Group by 'web presence' and count the rows with null, 'site propriu', and 'Facebook' values\n",
    "result = df.groupby('web_presence').size().reset_index()\n",
    "print(result)\n",
    "nan_count = result['web_presence'].isna().sum()\n",
    "print(\"NaN values in 'web_presence':\", nan_count)"
   ]
  },
  {
   "cell_type": "code",
   "execution_count": 45,
   "metadata": {},
   "outputs": [
    {
     "name": "stdout",
     "output_type": "stream",
     "text": [
      "   web_presence  Profit_medie\n",
      "0      Facebook     66.666685\n",
      "1  site propriu     71.552618\n",
      "2           NaN     66.891229\n"
     ]
    }
   ],
   "source": [
    "profit_per_tip = df.groupby(\"web_presence\", dropna=False)[\"Profit_medie\"].mean().reset_index()\n",
    "print(profit_per_tip)\n"
   ]
  }
 ],
 "metadata": {
  "kernelspec": {
   "display_name": "Python 3",
   "language": "python",
   "name": "python3"
  },
  "language_info": {
   "codemirror_mode": {
    "name": "ipython",
    "version": 3
   },
   "file_extension": ".py",
   "mimetype": "text/x-python",
   "name": "python",
   "nbconvert_exporter": "python",
   "pygments_lexer": "ipython3",
   "version": "3.11.3"
  },
  "orig_nbformat": 4
 },
 "nbformat": 4,
 "nbformat_minor": 2
}
