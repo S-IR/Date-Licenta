{
 "cells": [
  {
   "cell_type": "code",
   "execution_count": 1,
   "metadata": {},
   "outputs": [],
   "source": [
    "import pandas as pd\n",
    "import numpy as np\n",
    "from pandas.api.types import is_datetime64_any_dtype as is_datetime\n",
    "import seaborn as sns\n",
    "import matplotlib.pyplot as plt\n",
    "import re\n",
    "\n",
    "from scipy import stats\n",
    "from datetime import datetime\n"
   ]
  },
  {
   "cell_type": "code",
   "execution_count": 2,
   "metadata": {},
   "outputs": [
    {
     "name": "stdout",
     "output_type": "stream",
     "text": [
      "                               Tip unitate        Nume Unitate Tip categorie   \n",
      "Numar Inregistrare                                                             \n",
      "J12/1823/1991       PENSIUNE AGROTURISTICĂ           PĂSTRĂVUL   3 MARGARETE  \\\n",
      "J12/4339/1991       PENSIUNE AGROTURISTICĂ       CASA PETRU II       2 FLORI   \n",
      "J12/4339/1991       PENSIUNE AGROTURISTICĂ   CASA PETRU STOLNA       2 FLORI   \n",
      "J19/694/1992        PENSIUNE AGROTURISTICĂ                VARI   3 MARGARETE   \n",
      "J33/765/1991        PENSIUNE AGROTURISTICĂ             LUCIANO       3 FLORI   \n",
      "...                                    ...                 ...           ...   \n",
      "J36/483/2006        PENSIUNE AGROTURISTICĂ             VASILIU       2 FLORI   \n",
      "F38/394/2010        PENSIUNE AGROTURISTICĂ              ARNOTA       2 FLORI   \n",
      "F38/709/2008        PENSIUNE AGROTURISTICĂ      CASA FILOXENIA       3 FLORI   \n",
      "F38/532/2006        PENSIUNE AGROTURISTICĂ         STOICA ILIE       2 FLORI   \n",
      "J/38/1264/1994      PENSIUNE AGROTURISTICĂ  POPASUL HAIDUCULUI       3 FLORI   \n",
      "\n",
      "                    Numar spatii  Numar locuri        Alte Detalii Adresa   \n",
      "Numar Inregistrare                                                          \n",
      "J12/1823/1991                  7            15                  Nr. 138/A  \\\n",
      "J12/4339/1991                  3             6                    Nr. 47A   \n",
      "J12/4339/1991                  3             6                    nr. 47A   \n",
      "J19/694/1992                   5            10   Str. Principală, Nr. 151   \n",
      "J33/765/1991                  15            29                    nr. 549   \n",
      "...                          ...           ...                        ...   \n",
      "J36/483/2006                   6            12  strada Principală nr.180A   \n",
      "F38/394/2010                   4             9                    NR. 322   \n",
      "F38/709/2008                   5            10     STR. MANASTIRII, NR. 8   \n",
      "F38/532/2006                   4             8                    NR. 106   \n",
      "J/38/1264/1994                10            21      STR. GROTULUI, BL. B6   \n",
      "\n",
      "                   Tip Localitate      Localitate Tip Localitate Componenta   \n",
      "Numar Inregistrare                                                            \n",
      "J12/1823/1991                com.  Muguri-Răcătău                       sat  \\\n",
      "J12/4339/1991                com.       Savadisla                       sat   \n",
      "J12/4339/1991                com.       Savadisla                       sat   \n",
      "J19/694/1992                 com.           Zetea                       sat   \n",
      "J33/765/1991                 com.    Fântâna Mare                       sat   \n",
      "...                           ...             ...                       ...   \n",
      "J36/483/2006                 com.          Crișan                       sat   \n",
      "F38/394/2010                 com.        Costești                       sat   \n",
      "F38/709/2008                 oraș          Horezu     localitate componentă   \n",
      "F38/532/2006                 com.         Tomșani                       sat   \n",
      "J/38/1264/1994               com.        Voineasa                       sat   \n",
      "\n",
      "                   Localitate Componenta  ... Numar mediu de angajați 2018   \n",
      "Numar Inregistrare                        ...                                \n",
      "J12/1823/1991               Muntele Rece  ...                          NaN  \\\n",
      "J12/4339/1991                     Stolna  ...                          1.0   \n",
      "J12/4339/1991                     Stolna  ...                          1.0   \n",
      "J19/694/1992                  Sub Cetate  ...                         17.0   \n",
      "J33/765/1991                  SPATARESTI  ...                          9.0   \n",
      "...                                  ...  ...                          ...   \n",
      "J36/483/2006                      CRISAN  ...                          4.0   \n",
      "F38/394/2010                    COSTESTI  ...                          4.0   \n",
      "F38/709/2008              ROMANII DE JOS  ...                          4.0   \n",
      "F38/532/2006                  BOGDANESTI  ...                          4.0   \n",
      "J/38/1264/1994                  Voineasa  ...                          4.0   \n",
      "\n",
      "                               Rating Număr de Recenzii  Altitudine   \n",
      "Numar Inregistrare                                                    \n",
      "J12/1823/1991                     4,8              60.0  460.932098  \\\n",
      "J12/4339/1991       nu exista valoare               NaN  437.595581   \n",
      "J12/4339/1991       nu exista valoare               NaN  437.595581   \n",
      "J19/694/1992                      5,0               NaN  759.586914   \n",
      "J33/765/1991                      3,9             187.0  523.018066   \n",
      "...                               ...               ...         ...   \n",
      "J36/483/2006        nu exista valoare               NaN  891.215332   \n",
      "F38/394/2010                      4,8              59.0  891.215332   \n",
      "F38/709/2008                      4,3              76.0  891.215332   \n",
      "F38/532/2006        nu exista valoare               NaN  557.843689   \n",
      "J/38/1264/1994      nu exista valoare               NaN  660.893188   \n",
      "\n",
      "                   Latitudine Longitudine Temperatura maxima medie   \n",
      "Numar Inregistrare                                                   \n",
      "J12/1823/1991       46.644970   23.283053                10.865000  \\\n",
      "J12/4339/1991       46.711719   23.400644                14.074737   \n",
      "J12/4339/1991       46.711719   23.400644                14.074737   \n",
      "J19/694/1992        46.444268   25.392188                13.881842   \n",
      "J33/765/1991        47.427728   26.299804                13.837105   \n",
      "...                       ...         ...                      ...   \n",
      "J36/483/2006        47.197257   25.263759                10.322105   \n",
      "F38/394/2010        47.197257   25.263759                10.322105   \n",
      "F38/709/2008        47.197257   25.263759                10.322105   \n",
      "F38/532/2006        47.774637   25.706188                12.830526   \n",
      "J/38/1264/1994      47.564947   25.694516                13.151579   \n",
      "\n",
      "                   Temperatura minima medie  Temperatura medie   \n",
      "Numar Inregistrare                                               \n",
      "J12/1823/1991                      2.830526           6.847763  \\\n",
      "J12/4339/1991                      4.653947           9.364342   \n",
      "J12/4339/1991                      4.653947           9.364342   \n",
      "J19/694/1992                       5.058947           9.470395   \n",
      "J33/765/1991                       5.130789           9.483947   \n",
      "...                                     ...                ...   \n",
      "J36/483/2006                       2.840789           6.581447   \n",
      "F38/394/2010                       2.840789           6.581447   \n",
      "F38/709/2008                       2.840789           6.581447   \n",
      "F38/532/2006                       4.516316           8.673421   \n",
      "J/38/1264/1994                     4.939211           9.045395   \n",
      "\n",
      "                    Precipitatiile zilnice medii  \n",
      "Numar Inregistrare                                \n",
      "J12/1823/1991                           3.675526  \n",
      "J12/4339/1991                           2.388684  \n",
      "J12/4339/1991                           2.388684  \n",
      "J19/694/1992                            2.093947  \n",
      "J33/765/1991                            1.825789  \n",
      "...                                          ...  \n",
      "J36/483/2006                            2.925789  \n",
      "F38/394/2010                            2.925789  \n",
      "F38/709/2008                            2.925789  \n",
      "F38/532/2006                            2.101053  \n",
      "J/38/1264/1994                          2.138947  \n",
      "\n",
      "[454 rows x 47 columns]\n"
     ]
    }
   ],
   "source": [
    "df = pd.read_excel(\"date_python.xlsx\",index_col=\"Numar Inregistrare\")\n",
    "print(df)"
   ]
  },
  {
   "cell_type": "code",
   "execution_count": 3,
   "metadata": {},
   "outputs": [],
   "source": [
    "def median_profit(row):\n",
    "    values = row[['Profit net 2021', 'Profit net 2020', 'Profit net 2019', 'Profit net 2018']].dropna()\n",
    "    \n",
    "    if len(values) <= 1:\n",
    "        return np.nan\n",
    "    else:\n",
    "        return values.median()\n",
    "\n",
    "# Create a new column with the median fiscal value\n",
    "df['Profit_medie'] = df.apply(median_profit, axis=1)"
   ]
  },
  {
   "cell_type": "code",
   "execution_count": 31,
   "metadata": {},
   "outputs": [
    {
     "name": "stderr",
     "output_type": "stream",
     "text": [
      "C:\\Users\\Stan\\AppData\\Local\\Temp\\ipykernel_16828\\1259711083.py:10: SettingWithCopyWarning: \n",
      "A value is trying to be set on a copy of a slice from a DataFrame.\n",
      "Try using .loc[row_indexer,col_indexer] = value instead\n",
      "\n",
      "See the caveats in the documentation: https://pandas.pydata.org/pandas-docs/stable/user_guide/indexing.html#returning-a-view-versus-a-copy\n",
      "  df['Costuri_medie'] = df.apply(costuri_medie, axis=1)\n"
     ]
    }
   ],
   "source": [
    "def costuri_medie(row):\n",
    "    values = row[['Numar mediu de angajați 2021', 'Numar mediu de angajați 2020', 'Numar mediu de angajați 2019', 'Numar mediu de angajați 2018']].dropna()\n",
    "    \n",
    "    if len(values) <= 1:\n",
    "        return np.nan\n",
    "    else:\n",
    "        return values.median()\n",
    "\n",
    "# Create a new column with the median fiscal value\n",
    "df['Costuri_medie'] = df.apply(costuri_medie, axis=1)"
   ]
  },
  {
   "cell_type": "code",
   "execution_count": 5,
   "metadata": {},
   "outputs": [],
   "source": [
    "def median_fiscal_value(row):\n",
    "    values = row[['Cifra de afaceri neta 2021', 'Cifra de afaceri neta 2020', 'Cifra de afaceri neta 2019', 'Cifra de afaceri neta 2018']].dropna()\n",
    "    \n",
    "    if len(values) <= 1:\n",
    "        return np.nan\n",
    "    else:\n",
    "        return values.median()\n",
    "\n",
    "# Create a new column with the median fiscal value\n",
    "df['CA_medie'] = df.apply(median_fiscal_value, axis=1)"
   ]
  },
  {
   "cell_type": "code",
   "execution_count": 32,
   "metadata": {},
   "outputs": [
    {
     "name": "stderr",
     "output_type": "stream",
     "text": [
      "C:\\Users\\Stan\\AppData\\Local\\Temp\\ipykernel_16828\\3319771822.py:10: SettingWithCopyWarning: \n",
      "A value is trying to be set on a copy of a slice from a DataFrame.\n",
      "Try using .loc[row_indexer,col_indexer] = value instead\n",
      "\n",
      "See the caveats in the documentation: https://pandas.pydata.org/pandas-docs/stable/user_guide/indexing.html#returning-a-view-versus-a-copy\n",
      "  df['Angajati_medie'] = df.apply(costuri_medie, axis=1)\n"
     ]
    }
   ],
   "source": [
    "def nr_angaj_medie(row):\n",
    "    values = row[['Numar mediu de angajați 2021', 'Numar mediu de angajați 2020', 'Numar mediu de angajați 2019', 'Numar mediu de angajați 2018']].dropna()\n",
    "    \n",
    "    if len(values) <= 1:\n",
    "        return np.nan\n",
    "    else:\n",
    "        return values.median()\n",
    "\n",
    "# Create a new column with the median fiscal value\n",
    "df['Angajati_medie'] = df.apply(costuri_medie, axis=1)"
   ]
  },
  {
   "attachments": {},
   "cell_type": "markdown",
   "metadata": {},
   "source": [
    "## Repartizarea pe tip de categorie"
   ]
  },
  {
   "cell_type": "code",
   "execution_count": 66,
   "metadata": {},
   "outputs": [],
   "source": [
    "numar_pens_dupa_tip = df.groupby('Tip categorie').size().reset_index(name='Count')\n"
   ]
  },
  {
   "cell_type": "code",
   "execution_count": 67,
   "metadata": {},
   "outputs": [],
   "source": [
    "df['Tip categorie'] = df['Tip categorie'].apply(lambda x: int(re.search(r'\\d+', x).group()))\n",
    "tip_categorie_count = df.groupby('Tip categorie').size().reset_index(name='count')"
   ]
  },
  {
   "cell_type": "code",
   "execution_count": 68,
   "metadata": {},
   "outputs": [
    {
     "name": "stdout",
     "output_type": "stream",
     "text": [
      "   Tip categorie  count\n",
      "0              1     13\n",
      "1              2    132\n",
      "2              3    220\n",
      "3              4     79\n",
      "4              5     10\n"
     ]
    }
   ],
   "source": [
    "print(tip_categorie_count)"
   ]
  },
  {
   "cell_type": "code",
   "execution_count": null,
   "metadata": {},
   "outputs": [],
   "source": [
    "grouped_profit = df.groupby('score')['profit'].mean()\n"
   ]
  },
  {
   "cell_type": "code",
   "execution_count": 27,
   "metadata": {},
   "outputs": [
    {
     "name": "stdout",
     "output_type": "stream",
     "text": [
      "   Tip categorie  count\n",
      "0              1     13\n",
      "1              2    132\n",
      "2              3    220\n",
      "3              4     79\n",
      "4              5     10\n"
     ]
    }
   ],
   "source": [
    "print(tip_categorie_count)\n",
    "tip_categorie_count.to_excel(\"Repartizarea pe tip categorie.xlsx\")"
   ]
  },
  {
   "attachments": {},
   "cell_type": "markdown",
   "metadata": {},
   "source": [
    "## Corelatia dintre cifra de afaceri, profit, costuri si tipul de pensiune  \n"
   ]
  },
  {
   "cell_type": "code",
   "execution_count": 75,
   "metadata": {},
   "outputs": [],
   "source": [
    "df.drop(df[(df['Tip categorie'] == 1) & (df['Profit_medie'] > 350)].index, inplace=True)\n"
   ]
  },
  {
   "cell_type": "code",
   "execution_count": 123,
   "metadata": {},
   "outputs": [],
   "source": [
    "grouped_profit = df.groupby('Numar locuri')['CA_medie'].mean()"
   ]
  },
  {
   "cell_type": "code",
   "execution_count": 119,
   "metadata": {},
   "outputs": [
    {
     "name": "stdout",
     "output_type": "stream",
     "text": [
      "0.023046062744367105\n"
     ]
    }
   ],
   "source": [
    "correlation = df['Numar locuri'].corr(df['Costuri_medie'])\n",
    "print(correlation)"
   ]
  },
  {
   "cell_type": "code",
   "execution_count": 124,
   "metadata": {},
   "outputs": [
    {
     "name": "stdout",
     "output_type": "stream",
     "text": [
      "Numar locuri\n",
      "2     208.537250\n",
      "4     277.378684\n",
      "5     277.316233\n",
      "6     205.188194\n",
      "7     196.905864\n",
      "8     135.290984\n",
      "9     186.945781\n",
      "10    184.023827\n",
      "11    172.879100\n",
      "12    180.775969\n",
      "13    192.946500\n",
      "14    258.869500\n",
      "15    162.313833\n",
      "16    194.097272\n",
      "17    329.547300\n",
      "18    119.345300\n",
      "19    215.917750\n",
      "20    190.845722\n",
      "21    315.036000\n",
      "23     40.448500\n",
      "24    249.071000\n",
      "26    315.036000\n",
      "27    129.791000\n",
      "29    261.095500\n",
      "30    132.186000\n",
      "31    227.432500\n",
      "Name: CA_medie, dtype: float64\n"
     ]
    }
   ],
   "source": [
    "print(grouped_profit)"
   ]
  },
  {
   "cell_type": "code",
   "execution_count": 125,
   "metadata": {},
   "outputs": [],
   "source": [
    "grouped_profit.to_excel('Corelatia dintre numar locuri si CA_medie.xlsx')"
   ]
  },
  {
   "attachments": {},
   "cell_type": "markdown",
   "metadata": {},
   "source": [
    "grouped_profit = df.groupby('Tip categorie')['CA_medie'].mean()"
   ]
  },
  {
   "cell_type": "code",
   "execution_count": 71,
   "metadata": {},
   "outputs": [],
   "source": [
    "filtered_rows = df[df['Tip categorie'] == 1]\n",
    "\n",
    "# Remove rows with 'profit' greater than 350\n",
    "filtered_rows_no_outliers = filtered_rows[filtered_rows['Tip categorie'] <= 350]\n",
    "grouped_profit = filtered_rows_no_outliers.groupby('Tip categorie')['Profit_medie'].mean()"
   ]
  },
  {
   "cell_type": "code",
   "execution_count": 72,
   "metadata": {},
   "outputs": [
    {
     "name": "stdout",
     "output_type": "stream",
     "text": [
      "Tip categorie\n",
      "1    37.489615\n",
      "Name: Profit_medie, dtype: float64\n"
     ]
    }
   ],
   "source": [
    "print(grouped_profit)"
   ]
  },
  {
   "attachments": {},
   "cell_type": "markdown",
   "metadata": {},
   "source": [
    "## Corelația dintre totalul număr spații si locuri cu profit"
   ]
  },
  {
   "cell_type": "code",
   "execution_count": 96,
   "metadata": {},
   "outputs": [],
   "source": [
    "df['Numar spatii'] = np.where(df['Numar spatii'] > 8, 8, df['Numar spatii'])"
   ]
  },
  {
   "cell_type": "code",
   "execution_count": 104,
   "metadata": {},
   "outputs": [],
   "source": [
    "numar_spatii_CA = df.groupby(\"Numar spatii\")[\"CA\"].mean().reset_index()\n"
   ]
  },
  {
   "cell_type": "code",
   "execution_count": 108,
   "metadata": {},
   "outputs": [
    {
     "name": "stdout",
     "output_type": "stream",
     "text": [
      "   Numar spatii  Profit_medie\n",
      "0             1     87.357750\n",
      "1             2     41.673786\n",
      "2             3     59.393991\n",
      "3             4     60.210106\n",
      "4             5     73.066326\n",
      "5             6     76.132246\n",
      "6             7     53.409641\n",
      "7             8     82.419262\n"
     ]
    }
   ],
   "source": [
    "print(numar_spatii_CA)"
   ]
  },
  {
   "attachments": {},
   "cell_type": "markdown",
   "metadata": {},
   "source": [
    "## Corelația cu date fiscale"
   ]
  },
  {
   "cell_type": "code",
   "execution_count": 127,
   "metadata": {},
   "outputs": [
    {
     "name": "stdout",
     "output_type": "stream",
     "text": [
      "              Tip Operator Economic  count\n",
      "0               Asociație Familială      5\n",
      "1        Persoană Fizică Autorizată     17\n",
      "2                  Persoană Fizică.     42\n",
      "3  Societate cu Răspundere Limitată    359\n",
      "4        Societate în Nume Colectiv      1\n",
      "5           Întreprindere Familială      9\n",
      "6         Întreprindere Individuală     21\n"
     ]
    }
   ],
   "source": [
    "tip_operator_eco_count = df.groupby('Tip Operator Economic').size().reset_index(name='count')\n",
    "print(tip_operator_eco_count)"
   ]
  },
  {
   "cell_type": "code",
   "execution_count": 129,
   "metadata": {},
   "outputs": [],
   "source": [
    "tip_operator_eco_count.to_excel(\"repartizare dupa operator economic.xlsx\")"
   ]
  },
  {
   "cell_type": "code",
   "execution_count": 133,
   "metadata": {},
   "outputs": [
    {
     "name": "stdout",
     "output_type": "stream",
     "text": [
      "              Tip Operator Economic    CA_medie\n",
      "0               Asociație Familială  315.036000\n",
      "1        Persoană Fizică Autorizată  315.036000\n",
      "2                  Persoană Fizică.  315.036000\n",
      "3  Societate cu Răspundere Limitată  160.049239\n",
      "4        Societate în Nume Colectiv  315.036000\n",
      "5           Întreprindere Familială  315.036000\n",
      "6         Întreprindere Individuală  300.977143\n"
     ]
    }
   ],
   "source": [
    "tip_operator_eco__profit = df.groupby(\"Tip Operator Economic\")[\"CA_medie\"].mean().reset_index()\n",
    "print(tip_operator_eco__profit)\n"
   ]
  },
  {
   "cell_type": "code",
   "execution_count": 23,
   "metadata": {},
   "outputs": [],
   "source": [
    "# medie_CA_per_tip_categorie.to_excel('Media cifrei de afaceri per tip de categorie.xlsx')\n"
   ]
  },
  {
   "cell_type": "code",
   "execution_count": 25,
   "metadata": {},
   "outputs": [],
   "source": [
    "# numar_pens_dupa_tip.to_excel('Numar de pensiuni in functie de tipul categoriei.xlsx')\n"
   ]
  },
  {
   "cell_type": "code",
   "execution_count": null,
   "metadata": {},
   "outputs": [],
   "source": []
  },
  {
   "cell_type": "code",
   "execution_count": 30,
   "metadata": {},
   "outputs": [],
   "source": [
    "# def is_valid_date(value):\n",
    "#     try:\n",
    "#         pd.to_datetime(value, dayfirst=True)\n",
    "#         return True\n",
    "#     except ValueError:\n",
    "#         return False\n",
    "\n",
    "# df['is_valid'] = df['Data Emitere Autorizatie'].apply(is_valid_date)\n"
   ]
  },
  {
   "cell_type": "code",
   "execution_count": 31,
   "metadata": {},
   "outputs": [
    {
     "name": "stdout",
     "output_type": "stream",
     "text": [
      "Numar Inregistrare\n",
      "J12/1823/1991      True\n",
      "J12/4339/1991     False\n",
      "J12/4339/1991      True\n",
      "J19/694/1992       True\n",
      "J33/765/1991      False\n",
      "                  ...  \n",
      "J36/483/2006       True\n",
      "F38/394/2010       True\n",
      "F38/709/2008       True\n",
      "F38/532/2006       True\n",
      "J/38/1264/1994    False\n",
      "Name: is_valid, Length: 454, dtype: bool\n"
     ]
    }
   ],
   "source": [
    "# print(df['is_valid'])"
   ]
  },
  {
   "cell_type": "code",
   "execution_count": 6,
   "metadata": {},
   "outputs": [
    {
     "name": "stdout",
     "output_type": "stream",
     "text": [
      "                               Tip unitate        Nume Unitate Tip categorie   \n",
      "Numar Inregistrare                                                             \n",
      "J12/1823/1991       PENSIUNE AGROTURISTICĂ           PĂSTRĂVUL   3 MARGARETE  \\\n",
      "J12/4339/1991       PENSIUNE AGROTURISTICĂ       CASA PETRU II       2 FLORI   \n",
      "J12/4339/1991       PENSIUNE AGROTURISTICĂ   CASA PETRU STOLNA       2 FLORI   \n",
      "J19/694/1992        PENSIUNE AGROTURISTICĂ                VARI   3 MARGARETE   \n",
      "J33/765/1991        PENSIUNE AGROTURISTICĂ             LUCIANO       3 FLORI   \n",
      "...                                    ...                 ...           ...   \n",
      "J36/483/2006        PENSIUNE AGROTURISTICĂ             VASILIU       2 FLORI   \n",
      "F38/394/2010        PENSIUNE AGROTURISTICĂ              ARNOTA       2 FLORI   \n",
      "F38/709/2008        PENSIUNE AGROTURISTICĂ      CASA FILOXENIA       3 FLORI   \n",
      "F38/532/2006        PENSIUNE AGROTURISTICĂ         STOICA ILIE       2 FLORI   \n",
      "J/38/1264/1994      PENSIUNE AGROTURISTICĂ  POPASUL HAIDUCULUI       3 FLORI   \n",
      "\n",
      "                    Numar spatii  Numar locuri        Alte Detalii Adresa   \n",
      "Numar Inregistrare                                                          \n",
      "J12/1823/1991                  7            15                  Nr. 138/A  \\\n",
      "J12/4339/1991                  3             6                    Nr. 47A   \n",
      "J12/4339/1991                  3             6                    nr. 47A   \n",
      "J19/694/1992                   5            10   Str. Principală, Nr. 151   \n",
      "J33/765/1991                  15            29                    nr. 549   \n",
      "...                          ...           ...                        ...   \n",
      "J36/483/2006                   6            12  strada Principală nr.180A   \n",
      "F38/394/2010                   4             9                    NR. 322   \n",
      "F38/709/2008                   5            10     STR. MANASTIRII, NR. 8   \n",
      "F38/532/2006                   4             8                    NR. 106   \n",
      "J/38/1264/1994                10            21      STR. GROTULUI, BL. B6   \n",
      "\n",
      "                   Tip Localitate      Localitate Tip Localitate Componenta   \n",
      "Numar Inregistrare                                                            \n",
      "J12/1823/1991                com.  Muguri-Răcătău                       sat  \\\n",
      "J12/4339/1991                com.       Savadisla                       sat   \n",
      "J12/4339/1991                com.       Savadisla                       sat   \n",
      "J19/694/1992                 com.           Zetea                       sat   \n",
      "J33/765/1991                 com.    Fântâna Mare                       sat   \n",
      "...                           ...             ...                       ...   \n",
      "J36/483/2006                 com.          Crișan                       sat   \n",
      "F38/394/2010                 com.        Costești                       sat   \n",
      "F38/709/2008                 oraș          Horezu     localitate componentă   \n",
      "F38/532/2006                 com.         Tomșani                       sat   \n",
      "J/38/1264/1994               com.        Voineasa                       sat   \n",
      "\n",
      "                   Localitate Componenta  ... Latitudine Longitudine   \n",
      "Numar Inregistrare                        ...                          \n",
      "J12/1823/1991               Muntele Rece  ...  46.644970   23.283053  \\\n",
      "J12/4339/1991                     Stolna  ...  46.711719   23.400644   \n",
      "J12/4339/1991                     Stolna  ...  46.711719   23.400644   \n",
      "J19/694/1992                  Sub Cetate  ...  46.444268   25.392188   \n",
      "J33/765/1991                  SPATARESTI  ...  47.427728   26.299804   \n",
      "...                                  ...  ...        ...         ...   \n",
      "J36/483/2006                      CRISAN  ...  47.197257   25.263759   \n",
      "F38/394/2010                    COSTESTI  ...  47.197257   25.263759   \n",
      "F38/709/2008              ROMANII DE JOS  ...  47.197257   25.263759   \n",
      "F38/532/2006                  BOGDANESTI  ...  47.774637   25.706188   \n",
      "J/38/1264/1994                  Voineasa  ...  47.564947   25.694516   \n",
      "\n",
      "                   Temperatura maxima medie Temperatura minima medie   \n",
      "Numar Inregistrare                                                     \n",
      "J12/1823/1991                     10.865000                 2.830526  \\\n",
      "J12/4339/1991                     14.074737                 4.653947   \n",
      "J12/4339/1991                     14.074737                 4.653947   \n",
      "J19/694/1992                      13.881842                 5.058947   \n",
      "J33/765/1991                      13.837105                 5.130789   \n",
      "...                                     ...                      ...   \n",
      "J36/483/2006                      10.322105                 2.840789   \n",
      "F38/394/2010                      10.322105                 2.840789   \n",
      "F38/709/2008                      10.322105                 2.840789   \n",
      "F38/532/2006                      12.830526                 4.516316   \n",
      "J/38/1264/1994                    13.151579                 4.939211   \n",
      "\n",
      "                   Temperatura medie Precipitatiile zilnice medii   \n",
      "Numar Inregistrare                                                  \n",
      "J12/1823/1991               6.847763                     3.675526  \\\n",
      "J12/4339/1991               9.364342                     2.388684   \n",
      "J12/4339/1991               9.364342                     2.388684   \n",
      "J19/694/1992                9.470395                     2.093947   \n",
      "J33/765/1991                9.483947                     1.825789   \n",
      "...                              ...                          ...   \n",
      "J36/483/2006                6.581447                     2.925789   \n",
      "F38/394/2010                6.581447                     2.925789   \n",
      "F38/709/2008                6.581447                     2.925789   \n",
      "F38/532/2006                8.673421                     2.101053   \n",
      "J/38/1264/1994              9.045395                     2.138947   \n",
      "\n",
      "                   Profit_medie Costuri_medie  CA_medie     unix_time  \n",
      "Numar Inregistrare                                                     \n",
      "J12/1823/1991           12.2140           1.0   88.0490  1.555286e+09  \n",
      "J12/4339/1991            8.9605           1.0   27.7855  1.505088e+09  \n",
      "J12/4339/1991            8.9605           1.0   27.7855  1.524701e+09  \n",
      "J19/694/1992           319.2555          17.5    2.9935  1.607990e+09  \n",
      "J33/765/1991           -19.7735           8.0  261.0955  1.317168e+09  \n",
      "...                         ...           ...       ...           ...  \n",
      "J36/483/2006            50.2685           3.0  315.0360  1.439165e+09  \n",
      "F38/394/2010            50.2685           3.0  315.0360  1.309738e+09  \n",
      "F38/709/2008            50.2685           3.0  315.0360  1.308701e+09  \n",
      "F38/532/2006            50.2685           3.0  315.0360  1.277424e+09  \n",
      "J/38/1264/1994          50.2685           3.0  315.0360           NaN  \n",
      "\n",
      "[454 rows x 51 columns]\n"
     ]
    }
   ],
   "source": [
    "day_name_mapping = {\n",
    "    'luni': 'monday',\n",
    "    'marţi': 'tuesday',\n",
    "    'miercuri': 'wednesday',\n",
    "    'joi': 'thursday',\n",
    "    'vineri': 'friday',\n",
    "    'sâmbătă': 'saturday',\n",
    "    'duminică': 'sunday'\n",
    "}\n",
    "\n",
    "# Custom function to parse and convert date strings to Unix time\n",
    "def convert_to_unix_time(date_string):\n",
    "    for romanian_day, english_day in day_name_mapping.items():\n",
    "        date_string = date_string.replace(romanian_day, english_day)\n",
    "\n",
    "    try:\n",
    "        dt = pd.to_datetime(date_string, format='%A, %d %b, %Y', errors='coerce')\n",
    "        if pd.isna(dt):\n",
    "            dt = pd.to_datetime(date_string, format='%d.%m.%Y', errors='coerce')\n",
    "        return int(dt.timestamp())\n",
    "    except ValueError:\n",
    "        return None\n",
    "\n",
    "# Apply the custom function to the 'date_column' and create a new column 'unix_time'\n",
    "df['unix_time'] = df['Data Emitere Autorizatie'].apply(convert_to_unix_time)\n",
    "\n",
    "print(df)"
   ]
  },
  {
   "cell_type": "code",
   "execution_count": 4,
   "metadata": {},
   "outputs": [
    {
     "name": "stdout",
     "output_type": "stream",
     "text": [
      "Numar Inregistrare\n",
      "J12/1823/1991     1.555286e+09\n",
      "J12/4339/1991     1.505088e+09\n",
      "J12/4339/1991     1.524701e+09\n",
      "J19/694/1992      1.607990e+09\n",
      "J33/765/1991      1.317168e+09\n",
      "                      ...     \n",
      "J36/483/2006      1.439165e+09\n",
      "F38/394/2010      1.309738e+09\n",
      "F38/709/2008      1.308701e+09\n",
      "F38/532/2006      1.277424e+09\n",
      "J/38/1264/1994             NaN\n",
      "Name: unix_time, Length: 454, dtype: float64\n"
     ]
    }
   ],
   "source": [
    "# print(df['unix_time'])"
   ]
  },
  {
   "cell_type": "code",
   "execution_count": 7,
   "metadata": {},
   "outputs": [
    {
     "name": "stdout",
     "output_type": "stream",
     "text": [
      "Largest Unix time: 1677715200.0\n",
      "Smallest Unix time: 1247097600.0\n"
     ]
    }
   ],
   "source": [
    "# Find the largest and smallest Unix time values\n",
    "largest_unix_time = df['unix_time'].max()\n",
    "smallest_unix_time = df['unix_time'].min()\n",
    "\n",
    "print(\"Largest Unix time:\", largest_unix_time)\n",
    "print(\"Smallest Unix time:\", smallest_unix_time)\n"
   ]
  },
  {
   "cell_type": "code",
   "execution_count": null,
   "metadata": {},
   "outputs": [],
   "source": []
  },
  {
   "cell_type": "code",
   "execution_count": 6,
   "metadata": {},
   "outputs": [
    {
     "name": "stdout",
     "output_type": "stream",
     "text": [
      "False\n"
     ]
    }
   ],
   "source": [
    "# is_date_column = is_datetime(df['Data Emitere Autorizatie'])\n",
    "\n",
    "# print(is_date_column)  # Output: True\n"
   ]
  },
  {
   "cell_type": "code",
   "execution_count": 7,
   "metadata": {},
   "outputs": [
    {
     "ename": "KeyError",
     "evalue": "'CA_medie'",
     "output_type": "error",
     "traceback": [
      "\u001b[1;31m---------------------------------------------------------------------------\u001b[0m",
      "\u001b[1;31mKeyError\u001b[0m                                  Traceback (most recent call last)",
      "File \u001b[1;32md:\\Utilities\\Python\\Lib\\site-packages\\pandas\\core\\indexes\\base.py:3652\u001b[0m, in \u001b[0;36mIndex.get_loc\u001b[1;34m(self, key)\u001b[0m\n\u001b[0;32m   3651\u001b[0m \u001b[39mtry\u001b[39;00m:\n\u001b[1;32m-> 3652\u001b[0m     \u001b[39mreturn\u001b[39;00m \u001b[39mself\u001b[39;49m\u001b[39m.\u001b[39;49m_engine\u001b[39m.\u001b[39;49mget_loc(casted_key)\n\u001b[0;32m   3653\u001b[0m \u001b[39mexcept\u001b[39;00m \u001b[39mKeyError\u001b[39;00m \u001b[39mas\u001b[39;00m err:\n",
      "File \u001b[1;32md:\\Utilities\\Python\\Lib\\site-packages\\pandas\\_libs\\index.pyx:147\u001b[0m, in \u001b[0;36mpandas._libs.index.IndexEngine.get_loc\u001b[1;34m()\u001b[0m\n",
      "File \u001b[1;32md:\\Utilities\\Python\\Lib\\site-packages\\pandas\\_libs\\index.pyx:176\u001b[0m, in \u001b[0;36mpandas._libs.index.IndexEngine.get_loc\u001b[1;34m()\u001b[0m\n",
      "File \u001b[1;32mpandas\\_libs\\hashtable_class_helper.pxi:7080\u001b[0m, in \u001b[0;36mpandas._libs.hashtable.PyObjectHashTable.get_item\u001b[1;34m()\u001b[0m\n",
      "File \u001b[1;32mpandas\\_libs\\hashtable_class_helper.pxi:7088\u001b[0m, in \u001b[0;36mpandas._libs.hashtable.PyObjectHashTable.get_item\u001b[1;34m()\u001b[0m\n",
      "\u001b[1;31mKeyError\u001b[0m: 'CA_medie'",
      "\nThe above exception was the direct cause of the following exception:\n",
      "\u001b[1;31mKeyError\u001b[0m                                  Traceback (most recent call last)",
      "Cell \u001b[1;32mIn[7], line 1\u001b[0m\n\u001b[1;32m----> 1\u001b[0m correlation \u001b[39m=\u001b[39m df[\u001b[39m'\u001b[39m\u001b[39mTip categorie\u001b[39m\u001b[39m'\u001b[39m]\u001b[39m.\u001b[39mcorr(df[\u001b[39m'\u001b[39;49m\u001b[39mCA_medie\u001b[39;49m\u001b[39m'\u001b[39;49m])\n\u001b[0;32m      2\u001b[0m \u001b[39mprint\u001b[39m(correlation)\n",
      "File \u001b[1;32md:\\Utilities\\Python\\Lib\\site-packages\\pandas\\core\\frame.py:3761\u001b[0m, in \u001b[0;36mDataFrame.__getitem__\u001b[1;34m(self, key)\u001b[0m\n\u001b[0;32m   3759\u001b[0m \u001b[39mif\u001b[39;00m \u001b[39mself\u001b[39m\u001b[39m.\u001b[39mcolumns\u001b[39m.\u001b[39mnlevels \u001b[39m>\u001b[39m \u001b[39m1\u001b[39m:\n\u001b[0;32m   3760\u001b[0m     \u001b[39mreturn\u001b[39;00m \u001b[39mself\u001b[39m\u001b[39m.\u001b[39m_getitem_multilevel(key)\n\u001b[1;32m-> 3761\u001b[0m indexer \u001b[39m=\u001b[39m \u001b[39mself\u001b[39;49m\u001b[39m.\u001b[39;49mcolumns\u001b[39m.\u001b[39;49mget_loc(key)\n\u001b[0;32m   3762\u001b[0m \u001b[39mif\u001b[39;00m is_integer(indexer):\n\u001b[0;32m   3763\u001b[0m     indexer \u001b[39m=\u001b[39m [indexer]\n",
      "File \u001b[1;32md:\\Utilities\\Python\\Lib\\site-packages\\pandas\\core\\indexes\\base.py:3654\u001b[0m, in \u001b[0;36mIndex.get_loc\u001b[1;34m(self, key)\u001b[0m\n\u001b[0;32m   3652\u001b[0m     \u001b[39mreturn\u001b[39;00m \u001b[39mself\u001b[39m\u001b[39m.\u001b[39m_engine\u001b[39m.\u001b[39mget_loc(casted_key)\n\u001b[0;32m   3653\u001b[0m \u001b[39mexcept\u001b[39;00m \u001b[39mKeyError\u001b[39;00m \u001b[39mas\u001b[39;00m err:\n\u001b[1;32m-> 3654\u001b[0m     \u001b[39mraise\u001b[39;00m \u001b[39mKeyError\u001b[39;00m(key) \u001b[39mfrom\u001b[39;00m \u001b[39merr\u001b[39;00m\n\u001b[0;32m   3655\u001b[0m \u001b[39mexcept\u001b[39;00m \u001b[39mTypeError\u001b[39;00m:\n\u001b[0;32m   3656\u001b[0m     \u001b[39m# If we have a listlike key, _check_indexing_error will raise\u001b[39;00m\n\u001b[0;32m   3657\u001b[0m     \u001b[39m#  InvalidIndexError. Otherwise we fall through and re-raise\u001b[39;00m\n\u001b[0;32m   3658\u001b[0m     \u001b[39m#  the TypeError.\u001b[39;00m\n\u001b[0;32m   3659\u001b[0m     \u001b[39mself\u001b[39m\u001b[39m.\u001b[39m_check_indexing_error(key)\n",
      "\u001b[1;31mKeyError\u001b[0m: 'CA_medie'"
     ]
    }
   ],
   "source": [
    "# correlation = df['Tip categorie'].corr(df['CA_medie'])\n",
    "# print(correlation)"
   ]
  },
  {
   "cell_type": "code",
   "execution_count": 8,
   "metadata": {},
   "outputs": [
    {
     "name": "stdout",
     "output_type": "stream",
     "text": [
      "Number of negative values: 50\n"
     ]
    }
   ],
   "source": [
    "reference_date = datetime.strptime(\"31.12.2021\", \"%d.%m.%Y\")\n",
    "\n",
    "# Recalculate the column\n",
    "df[\"zile_de_la_deschiderea_afacerii\"] = (int(reference_date.timestamp()) - df[\"unix_time\"]) / 86400\n",
    "\n",
    "# Check the number of negative values\n",
    "negative_values_count = (df[\"zile_de_la_deschiderea_afacerii\"] < 0).sum()\n",
    "print(\"Number of negative values:\", negative_values_count)"
   ]
  },
  {
   "cell_type": "code",
   "execution_count": 10,
   "metadata": {},
   "outputs": [],
   "source": [
    "df = df.drop(df[df[\"zile_de_la_deschiderea_afacerii\"] < 0].index)\n"
   ]
  },
  {
   "cell_type": "code",
   "execution_count": 162,
   "metadata": {},
   "outputs": [
    {
     "name": "stdout",
     "output_type": "stream",
     "text": [
      "0\n"
     ]
    }
   ],
   "source": [
    "print(count_below_zero)"
   ]
  },
  {
   "cell_type": "code",
   "execution_count": 25,
   "metadata": {},
   "outputs": [],
   "source": []
  },
  {
   "cell_type": "code",
   "execution_count": 20,
   "metadata": {},
   "outputs": [
    {
     "name": "stdout",
     "output_type": "stream",
     "text": [
      "                    Profit_medie  zile_de_la_deschiderea_afacerii\n",
      "Numar Inregistrare                                               \n",
      "J12/1823/1991            12.2140                       990.916667\n",
      "J12/4339/1991             8.9605                      1571.916667\n",
      "J12/4339/1991             8.9605                      1344.916667\n",
      "J19/694/1992            319.2555                       380.916667\n",
      "J33/765/1991            -19.7735                      3746.916667\n",
      "...                          ...                              ...\n",
      "J36/483/2006             50.2685                      2334.916667\n",
      "F38/394/2010             50.2685                      3832.916667\n",
      "F38/709/2008             50.2685                      3844.916667\n",
      "F38/532/2006             50.2685                      4206.916667\n",
      "J/38/1264/1994           50.2685                              NaN\n",
      "\n",
      "[403 rows x 2 columns]\n"
     ]
    }
   ],
   "source": [
    "df = df.drop(df[df[\"zile_de_la_deschiderea_afacerii\"] < 0].index)\n",
    "\n",
    "column_names = ['Profit_medie', 'zile_de_la_deschiderea_afacerii']\n",
    "new_df = pd.DataFrame(df[column_names])\n",
    "print(new_df)\n",
    "new_df.to_excel(\"Corelatia dintre profit medie si zile de deschidere ale afacerii.xlsx\")"
   ]
  },
  {
   "cell_type": "code",
   "execution_count": 23,
   "metadata": {},
   "outputs": [
    {
     "ename": "TypeError",
     "evalue": "Cannot perform 'ror_' with a dtyped [float64] array and scalar of type [bool]",
     "output_type": "error",
     "traceback": [
      "\u001b[1;31m---------------------------------------------------------------------------\u001b[0m",
      "\u001b[1;31mTypeError\u001b[0m                                 Traceback (most recent call last)",
      "File \u001b[1;32md:\\Utilities\\Python\\Lib\\site-packages\\pandas\\core\\ops\\array_ops.py:311\u001b[0m, in \u001b[0;36mna_logical_op\u001b[1;34m(x, y, op)\u001b[0m\n\u001b[0;32m    302\u001b[0m \u001b[39mtry\u001b[39;00m:\n\u001b[0;32m    303\u001b[0m     \u001b[39m# For exposition, write:\u001b[39;00m\n\u001b[0;32m    304\u001b[0m     \u001b[39m#  yarr = isinstance(y, np.ndarray)\u001b[39;00m\n\u001b[1;32m   (...)\u001b[0m\n\u001b[0;32m    309\u001b[0m     \u001b[39m# Then Cases where this goes through without raising include:\u001b[39;00m\n\u001b[0;32m    310\u001b[0m     \u001b[39m#  (xint or xbool) and (yint or bool)\u001b[39;00m\n\u001b[1;32m--> 311\u001b[0m     result \u001b[39m=\u001b[39m op(x, y)\n\u001b[0;32m    312\u001b[0m \u001b[39mexcept\u001b[39;00m \u001b[39mTypeError\u001b[39;00m:\n",
      "File \u001b[1;32md:\\Utilities\\Python\\Lib\\site-packages\\pandas\\core\\roperator.py:58\u001b[0m, in \u001b[0;36mror_\u001b[1;34m(left, right)\u001b[0m\n\u001b[0;32m     57\u001b[0m \u001b[39mdef\u001b[39;00m \u001b[39mror_\u001b[39m(left, right):\n\u001b[1;32m---> 58\u001b[0m     \u001b[39mreturn\u001b[39;00m operator\u001b[39m.\u001b[39;49mor_(right, left)\n",
      "\u001b[1;31mTypeError\u001b[0m: ufunc 'bitwise_or' not supported for the input types, and the inputs could not be safely coerced to any supported types according to the casting rule ''safe''",
      "\nDuring handling of the above exception, another exception occurred:\n",
      "\u001b[1;31mValueError\u001b[0m                                Traceback (most recent call last)",
      "File \u001b[1;32md:\\Utilities\\Python\\Lib\\site-packages\\pandas\\core\\ops\\array_ops.py:325\u001b[0m, in \u001b[0;36mna_logical_op\u001b[1;34m(x, y, op)\u001b[0m\n\u001b[0;32m    324\u001b[0m \u001b[39mtry\u001b[39;00m:\n\u001b[1;32m--> 325\u001b[0m     result \u001b[39m=\u001b[39m libops\u001b[39m.\u001b[39;49mscalar_binop(x, y, op)\n\u001b[0;32m    326\u001b[0m \u001b[39mexcept\u001b[39;00m (\n\u001b[0;32m    327\u001b[0m     \u001b[39mTypeError\u001b[39;00m,\n\u001b[0;32m    328\u001b[0m     \u001b[39mValueError\u001b[39;00m,\n\u001b[1;32m   (...)\u001b[0m\n\u001b[0;32m    331\u001b[0m     \u001b[39mNotImplementedError\u001b[39;00m,\n\u001b[0;32m    332\u001b[0m ) \u001b[39mas\u001b[39;00m err:\n",
      "File \u001b[1;32md:\\Utilities\\Python\\Lib\\site-packages\\pandas\\_libs\\ops.pyx:180\u001b[0m, in \u001b[0;36mpandas._libs.ops.scalar_binop\u001b[1;34m()\u001b[0m\n",
      "\u001b[1;31mValueError\u001b[0m: Buffer dtype mismatch, expected 'Python object' but got 'double'",
      "\nThe above exception was the direct cause of the following exception:\n",
      "\u001b[1;31mTypeError\u001b[0m                                 Traceback (most recent call last)",
      "Cell \u001b[1;32mIn[23], line 1\u001b[0m\n\u001b[1;32m----> 1\u001b[0m df \u001b[39m=\u001b[39m df\u001b[39m.\u001b[39mdrop(df[df[\u001b[39m\"\u001b[39m\u001b[39mRata profitului net 2021\u001b[39m\u001b[39m\"\u001b[39m] \u001b[39m<\u001b[39m \u001b[39m-\u001b[39;49m\u001b[39m100\u001b[39;49m \u001b[39m|\u001b[39;49mdf[\u001b[39m\"\u001b[39;49m\u001b[39mRata profitului net 2021\u001b[39;49m\u001b[39m\"\u001b[39;49m] \u001b[39m>\u001b[39m \u001b[39m100\u001b[39m ]\u001b[39m.\u001b[39mindex)\n",
      "File \u001b[1;32md:\\Utilities\\Python\\Lib\\site-packages\\pandas\\core\\ops\\common.py:81\u001b[0m, in \u001b[0;36m_unpack_zerodim_and_defer.<locals>.new_method\u001b[1;34m(self, other)\u001b[0m\n\u001b[0;32m     77\u001b[0m             \u001b[39mreturn\u001b[39;00m \u001b[39mNotImplemented\u001b[39m\n\u001b[0;32m     79\u001b[0m other \u001b[39m=\u001b[39m item_from_zerodim(other)\n\u001b[1;32m---> 81\u001b[0m \u001b[39mreturn\u001b[39;00m method(\u001b[39mself\u001b[39;49m, other)\n",
      "File \u001b[1;32md:\\Utilities\\Python\\Lib\\site-packages\\pandas\\core\\arraylike.py:82\u001b[0m, in \u001b[0;36mOpsMixin.__ror__\u001b[1;34m(self, other)\u001b[0m\n\u001b[0;32m     80\u001b[0m \u001b[39m@unpack_zerodim_and_defer\u001b[39m(\u001b[39m\"\u001b[39m\u001b[39m__ror__\u001b[39m\u001b[39m\"\u001b[39m)\n\u001b[0;32m     81\u001b[0m \u001b[39mdef\u001b[39;00m \u001b[39m__ror__\u001b[39m(\u001b[39mself\u001b[39m, other):\n\u001b[1;32m---> 82\u001b[0m     \u001b[39mreturn\u001b[39;00m \u001b[39mself\u001b[39;49m\u001b[39m.\u001b[39;49m_logical_method(other, roperator\u001b[39m.\u001b[39;49mror_)\n",
      "File \u001b[1;32md:\\Utilities\\Python\\Lib\\site-packages\\pandas\\core\\series.py:6103\u001b[0m, in \u001b[0;36mSeries._logical_method\u001b[1;34m(self, other, op)\u001b[0m\n\u001b[0;32m   6100\u001b[0m lvalues \u001b[39m=\u001b[39m \u001b[39mself\u001b[39m\u001b[39m.\u001b[39m_values\n\u001b[0;32m   6101\u001b[0m rvalues \u001b[39m=\u001b[39m extract_array(other, extract_numpy\u001b[39m=\u001b[39m\u001b[39mTrue\u001b[39;00m, extract_range\u001b[39m=\u001b[39m\u001b[39mTrue\u001b[39;00m)\n\u001b[1;32m-> 6103\u001b[0m res_values \u001b[39m=\u001b[39m ops\u001b[39m.\u001b[39;49mlogical_op(lvalues, rvalues, op)\n\u001b[0;32m   6104\u001b[0m \u001b[39mreturn\u001b[39;00m \u001b[39mself\u001b[39m\u001b[39m.\u001b[39m_construct_result(res_values, name\u001b[39m=\u001b[39mres_name)\n",
      "File \u001b[1;32md:\\Utilities\\Python\\Lib\\site-packages\\pandas\\core\\ops\\array_ops.py:401\u001b[0m, in \u001b[0;36mlogical_op\u001b[1;34m(left, right, op)\u001b[0m\n\u001b[0;32m    397\u001b[0m \u001b[39m# For int vs int `^`, `|`, `&` are bitwise operators and return\u001b[39;00m\n\u001b[0;32m    398\u001b[0m \u001b[39m#   integer dtypes.  Otherwise these are boolean ops\u001b[39;00m\n\u001b[0;32m    399\u001b[0m filler \u001b[39m=\u001b[39m fill_int \u001b[39mif\u001b[39;00m is_self_int_dtype \u001b[39mand\u001b[39;00m is_other_int_dtype \u001b[39melse\u001b[39;00m fill_bool\n\u001b[1;32m--> 401\u001b[0m res_values \u001b[39m=\u001b[39m na_logical_op(lvalues, rvalues, op)\n\u001b[0;32m    402\u001b[0m \u001b[39m# error: Cannot call function of unknown type\u001b[39;00m\n\u001b[0;32m    403\u001b[0m res_values \u001b[39m=\u001b[39m filler(res_values)  \u001b[39m# type: ignore[operator]\u001b[39;00m\n",
      "File \u001b[1;32md:\\Utilities\\Python\\Lib\\site-packages\\pandas\\core\\ops\\array_ops.py:334\u001b[0m, in \u001b[0;36mna_logical_op\u001b[1;34m(x, y, op)\u001b[0m\n\u001b[0;32m    326\u001b[0m         \u001b[39mexcept\u001b[39;00m (\n\u001b[0;32m    327\u001b[0m             \u001b[39mTypeError\u001b[39;00m,\n\u001b[0;32m    328\u001b[0m             \u001b[39mValueError\u001b[39;00m,\n\u001b[1;32m   (...)\u001b[0m\n\u001b[0;32m    331\u001b[0m             \u001b[39mNotImplementedError\u001b[39;00m,\n\u001b[0;32m    332\u001b[0m         ) \u001b[39mas\u001b[39;00m err:\n\u001b[0;32m    333\u001b[0m             typ \u001b[39m=\u001b[39m \u001b[39mtype\u001b[39m(y)\u001b[39m.\u001b[39m\u001b[39m__name__\u001b[39m\n\u001b[1;32m--> 334\u001b[0m             \u001b[39mraise\u001b[39;00m \u001b[39mTypeError\u001b[39;00m(\n\u001b[0;32m    335\u001b[0m                 \u001b[39mf\u001b[39m\u001b[39m\"\u001b[39m\u001b[39mCannot perform \u001b[39m\u001b[39m'\u001b[39m\u001b[39m{\u001b[39;00mop\u001b[39m.\u001b[39m\u001b[39m__name__\u001b[39m\u001b[39m}\u001b[39;00m\u001b[39m'\u001b[39m\u001b[39m with a dtyped [\u001b[39m\u001b[39m{\u001b[39;00mx\u001b[39m.\u001b[39mdtype\u001b[39m}\u001b[39;00m\u001b[39m] array \u001b[39m\u001b[39m\"\u001b[39m\n\u001b[0;32m    336\u001b[0m                 \u001b[39mf\u001b[39m\u001b[39m\"\u001b[39m\u001b[39mand scalar of type [\u001b[39m\u001b[39m{\u001b[39;00mtyp\u001b[39m}\u001b[39;00m\u001b[39m]\u001b[39m\u001b[39m\"\u001b[39m\n\u001b[0;32m    337\u001b[0m             ) \u001b[39mfrom\u001b[39;00m \u001b[39merr\u001b[39;00m\n\u001b[0;32m    339\u001b[0m \u001b[39mreturn\u001b[39;00m result\u001b[39m.\u001b[39mreshape(x\u001b[39m.\u001b[39mshape)\n",
      "\u001b[1;31mTypeError\u001b[0m: Cannot perform 'ror_' with a dtyped [float64] array and scalar of type [bool]"
     ]
    }
   ],
   "source": [
    "df = df.drop(df[df[\"Rata profitului net 2021\"] < -100 | df[\"Rata profitului net 2021\"] > 100 ].index)"
   ]
  },
  {
   "cell_type": "code",
   "execution_count": 22,
   "metadata": {},
   "outputs": [
    {
     "name": "stdout",
     "output_type": "stream",
     "text": [
      "-9.919026365112952\n"
     ]
    }
   ],
   "source": [
    "mean_profit = df[['Rata profitului net 2021', 'Rata profitului net 2020', 'Rata profitului net 2019', 'Rata profitului net 2018']].mean()\n",
    "print(mean_profit.mean())"
   ]
  },
  {
   "cell_type": "code",
   "execution_count": 16,
   "metadata": {},
   "outputs": [
    {
     "name": "stdout",
     "output_type": "stream",
     "text": [
      "-0.07325984305679474\n"
     ]
    }
   ],
   "source": [
    "correlation = df['zile_de_la_deschiderea_afacerii'].corr(df['Costuri_medie'])\n",
    "print(correlation)"
   ]
  },
  {
   "attachments": {},
   "cell_type": "markdown",
   "metadata": {},
   "source": [
    "## profit vs CA vs cheltuieli vs nr angajati"
   ]
  },
  {
   "cell_type": "code",
   "execution_count": null,
   "metadata": {},
   "outputs": [],
   "source": [
    "df = df.query(\"-100 <= `Rata profitului net 2021` <= 100 and 0 -100 <= `Rata profitului net 2020` <= 100 and -100 <= `Rata profitului net 2019` <= 100 and -100 <= `Rata profitului net 2018` <= 100\")\n"
   ]
  },
  {
   "cell_type": "code",
   "execution_count": 26,
   "metadata": {},
   "outputs": [
    {
     "name": "stdout",
     "output_type": "stream",
     "text": [
      "18.05051196172249\n"
     ]
    }
   ],
   "source": [
    "mean_profit = df[['Rata profitului net 2021', 'Rata profitului net 2020', 'Rata profitului net 2019', 'Rata profitului net 2018']].mean()\n",
    "print(mean_profit.mean())"
   ]
  },
  {
   "cell_type": "code",
   "execution_count": 35,
   "metadata": {},
   "outputs": [],
   "source": [
    "column_names = ['Profit_medie', 'CA_medie']\n",
    "new_df = pd.DataFrame(df[column_names])\n",
    "new_df.to_excel(\"Relatia intre profit si CA.xlsx\")\n"
   ]
  },
  {
   "cell_type": "code",
   "execution_count": 36,
   "metadata": {},
   "outputs": [
    {
     "name": "stdout",
     "output_type": "stream",
     "text": [
      "-0.04423856065398684\n"
     ]
    }
   ],
   "source": [
    "correlation = df['Profit_medie'].corr(df['CA_medie'])\n",
    "print(correlation)"
   ]
  },
  {
   "cell_type": "code",
   "execution_count": 27,
   "metadata": {},
   "outputs": [
    {
     "name": "stdout",
     "output_type": "stream",
     "text": [
      "102.91298790149838\n"
     ]
    }
   ],
   "source": [
    "mean_profit = df[['Profit net 2021', 'Profit net 2020', 'Profit net 2019', 'Profit net 2018']].mean()\n",
    "print(mean_profit.mean())"
   ]
  },
  {
   "cell_type": "code",
   "execution_count": null,
   "metadata": {},
   "outputs": [],
   "source": []
  },
  {
   "cell_type": "code",
   "execution_count": 14,
   "metadata": {},
   "outputs": [
    {
     "name": "stdout",
     "output_type": "stream",
     "text": [
      "Rata profitului net 2021    21.488112\n",
      "Rata profitului net 2020    24.228732\n",
      "Rata profitului net 2019   -71.818497\n",
      "Rata profitului net 2018     3.344859\n",
      "dtype: float64\n"
     ]
    }
   ],
   "source": [
    "# selected_columns = ['Rata profitului net 2021', 'Rata profitului net 2020', 'Rata profitului net 2019', 'Rata profitului net 2018']\n",
    "\n",
    "# # Filter rows with a positive median and count them\n",
    "# column_means  = df[selected_columns].mean(axis=0)\n",
    "# print(column_means )"
   ]
  },
  {
   "cell_type": "code",
   "execution_count": null,
   "metadata": {},
   "outputs": [],
   "source": [
    "# selected_columns = ['Rata profitului net 2021', 'Rata profitului net 2020', 'Rata profitului net 2019', 'Rata profitului net 2018']\n",
    "\n",
    "# row_medians = df[selected_columns].median(axis=1)\n",
    "# print()"
   ]
  },
  {
   "cell_type": "code",
   "execution_count": 15,
   "metadata": {},
   "outputs": [
    {
     "name": "stdout",
     "output_type": "stream",
     "text": [
      "                               Tip unitate       Nume Unitate Tip categorie   \n",
      "Numar Inregistrare                                                            \n",
      "J12/1823/1991       PENSIUNE AGROTURISTICĂ          PĂSTRĂVUL   3 MARGARETE  \\\n",
      "J12/4339/1991       PENSIUNE AGROTURISTICĂ      CASA PETRU II       2 FLORI   \n",
      "J12/4339/1991       PENSIUNE AGROTURISTICĂ  CASA PETRU STOLNA       2 FLORI   \n",
      "J19/694/1992        PENSIUNE AGROTURISTICĂ               VARI   3 MARGARETE   \n",
      "J33/765/1991        PENSIUNE AGROTURISTICĂ            LUCIANO       3 FLORI   \n",
      "...                                    ...                ...           ...   \n",
      "J25/367/2018        PENSIUNE AGROTURISTICĂ      CASA SOARELUI   3 MARGARETE   \n",
      "J12/4885/2018       PENSIUNE AGROTURISTICĂ          PĂDURICEA   3 MARGARETE   \n",
      "J33/2050/2018       PENSIUNE AGROTURISTICĂ  FLOAREA BUCOVINEI   3 MARGARETE   \n",
      "J33/1386/2019       PENSIUNE AGROTURISTICĂ       ARC BUCOVINA   3 MARGARETE   \n",
      "J1/1425/2019        PENSIUNE AGROTURISTICĂ   CHEILE ALBACULUI   3 MARGARETE   \n",
      "\n",
      "                    Numar spatii  Numar locuri   \n",
      "Numar Inregistrare                               \n",
      "J12/1823/1991                  7            15  \\\n",
      "J12/4339/1991                  3             6   \n",
      "J12/4339/1991                  3             6   \n",
      "J19/694/1992                   5            10   \n",
      "J33/765/1991                  15            29   \n",
      "...                          ...           ...   \n",
      "J25/367/2018                   8            16   \n",
      "J12/4885/2018                  5            10   \n",
      "J33/2050/2018                  5            11   \n",
      "J33/1386/2019                  7            16   \n",
      "J1/1425/2019                   8            15   \n",
      "\n",
      "                               Alte Detalii Adresa Tip Localitate   \n",
      "Numar Inregistrare                                                  \n",
      "J12/1823/1991                            Nr. 138/A           com.  \\\n",
      "J12/4339/1991                              Nr. 47A           com.   \n",
      "J12/4339/1991                              nr. 47A           com.   \n",
      "J19/694/1992              Str. Principală, Nr. 151           com.   \n",
      "J33/765/1991                               nr. 549           com.   \n",
      "...                                            ...            ...   \n",
      "J25/367/2018                               Nr. 263           com.   \n",
      "J12/4885/2018             Str. Planoarelor, Nr. 16           com.   \n",
      "J33/2050/2018           Str. Pârâul Floarei,nr. 17           com.   \n",
      "J33/1386/2019       str. Ștefan cel Mare, nr. 162A           com.   \n",
      "J1/1425/2019                                 Nr. 1           com.   \n",
      "\n",
      "                        Localitate Tip Localitate Componenta   \n",
      "Numar Inregistrare                                             \n",
      "J12/1823/1991       Muguri-Răcătău                       sat  \\\n",
      "J12/4339/1991            Savadisla                       sat   \n",
      "J12/4339/1991            Savadisla                       sat   \n",
      "J19/694/1992                 Zetea                       sat   \n",
      "J33/765/1991          Fântâna Mare                       sat   \n",
      "...                            ...                       ...   \n",
      "J25/367/2018                Șimian                       sat   \n",
      "J12/4885/2018              Apahida                       sat   \n",
      "J33/2050/2018                 Vama                       sat   \n",
      "J33/1386/2019                 Vama                       sat   \n",
      "J1/1425/2019                 Albac                       sat   \n",
      "\n",
      "                   Localitate Componenta  ... Număr de Recenzii  Altitudine   \n",
      "Numar Inregistrare                        ...                                 \n",
      "J12/1823/1991               Muntele Rece  ...              60.0  460.932098  \\\n",
      "J12/4339/1991                     Stolna  ...               NaN  437.595581   \n",
      "J12/4339/1991                     Stolna  ...               NaN  437.595581   \n",
      "J19/694/1992                  Sub Cetate  ...               NaN  759.586914   \n",
      "J33/765/1991                  SPATARESTI  ...             187.0  523.018066   \n",
      "...                                  ...  ...               ...         ...   \n",
      "J25/367/2018                   Erghevița  ...             157.0  255.347916   \n",
      "J12/4885/2018                     Dezmir  ...             185.0  382.468842   \n",
      "J33/2050/2018                  Strâmtura  ...               NaN  657.539124   \n",
      "J33/1386/2019                      Molid  ...               NaN  648.803345   \n",
      "J1/1425/2019                        Fața  ...             123.0  509.783081   \n",
      "\n",
      "                   Latitudine Longitudine Temperatura maxima medie   \n",
      "Numar Inregistrare                                                   \n",
      "J12/1823/1991       46.644970   23.283053                10.865000  \\\n",
      "J12/4339/1991       46.711719   23.400644                14.074737   \n",
      "J12/4339/1991       46.711719   23.400644                14.074737   \n",
      "J19/694/1992        46.444268   25.392188                13.881842   \n",
      "J33/765/1991        47.427728   26.299804                13.837105   \n",
      "...                       ...         ...                      ...   \n",
      "J25/367/2018        44.607485   22.788854                17.146579   \n",
      "J12/4885/2018       46.784121   23.718403                15.354211   \n",
      "J33/2050/2018       47.578547   25.684427                13.151579   \n",
      "J33/1386/2019       47.566192   25.733443                13.202632   \n",
      "J1/1425/2019        46.463167   22.962111                13.021053   \n",
      "\n",
      "                   Temperatura minima medie Temperatura medie   \n",
      "Numar Inregistrare                                              \n",
      "J12/1823/1991                      2.830526          6.847763  \\\n",
      "J12/4339/1991                      4.653947          9.364342   \n",
      "J12/4339/1991                      4.653947          9.364342   \n",
      "J19/694/1992                       5.058947          9.470395   \n",
      "J33/765/1991                       5.130789          9.483947   \n",
      "...                                     ...               ...   \n",
      "J25/367/2018                       8.356842         12.751711   \n",
      "J12/4885/2018                      6.103421         10.728816   \n",
      "J33/2050/2018                      4.939211          9.045395   \n",
      "J33/1386/2019                      4.987632          9.095132   \n",
      "J1/1425/2019                       5.510526          9.265789   \n",
      "\n",
      "                   Precipitatiile zilnice medii     unix_time   \n",
      "Numar Inregistrare                                              \n",
      "J12/1823/1991                          3.675526  1.555286e+09  \\\n",
      "J12/4339/1991                          2.388684  1.505088e+09   \n",
      "J12/4339/1991                          2.388684  1.524701e+09   \n",
      "J19/694/1992                           2.093947  1.607990e+09   \n",
      "J33/765/1991                           1.825789  1.317168e+09   \n",
      "...                                         ...           ...   \n",
      "J25/367/2018                           2.166842  1.611533e+09   \n",
      "J12/4885/2018                          1.923684  1.555286e+09   \n",
      "J33/2050/2018                          2.138947  1.621814e+09   \n",
      "J33/1386/2019                          2.138947  1.646179e+09   \n",
      "J1/1425/2019                           3.583158  1.604534e+09   \n",
      "\n",
      "                    zile_de_la_deschiderea_afacerii  \n",
      "Numar Inregistrare                                   \n",
      "J12/1823/1991                                 991.0  \n",
      "J12/4339/1991                                1572.0  \n",
      "J12/4339/1991                                1345.0  \n",
      "J19/694/1992                                  381.0  \n",
      "J33/765/1991                                 3747.0  \n",
      "...                                             ...  \n",
      "J25/367/2018                                  340.0  \n",
      "J12/4885/2018                                 991.0  \n",
      "J33/2050/2018                                 221.0  \n",
      "J33/1386/2019                                 -61.0  \n",
      "J1/1425/2019                                  421.0  \n",
      "\n",
      "[300 rows x 49 columns]\n"
     ]
    }
   ],
   "source": [
    "# filtered_df = df[(df['Rata profitului net 2019'] >= -100) & (df['Rata profitului net 2019'] <= 100)]\n",
    "\n",
    "# print(filtered_df)"
   ]
  },
  {
   "cell_type": "code",
   "execution_count": 19,
   "metadata": {},
   "outputs": [
    {
     "name": "stdout",
     "output_type": "stream",
     "text": [
      "Profit net 2021     96.749740\n",
      "Profit net 2020    129.649849\n",
      "Profit net 2019     55.685640\n",
      "Profit net 2018     45.169165\n",
      "dtype: float64\n",
      "final median 81.81359848174401\n"
     ]
    }
   ],
   "source": [
    "# selected_columns = ['Profit net 2021', 'Profit net 2020', 'Profit net 2019', 'Profit net 2018']\n",
    "# row_medians = df[selected_columns].mean()\n",
    "\n",
    "# # Filter rows with a positive median and count them\n",
    "# print(row_medians)\n",
    "# print('final median', row_medians.mean())"
   ]
  },
  {
   "cell_type": "code",
   "execution_count": 20,
   "metadata": {},
   "outputs": [],
   "source": [
    "# row_medians.to_excel('Rata profitului mediu 2021-2018.xlsx')"
   ]
  },
  {
   "cell_type": "code",
   "execution_count": 58,
   "metadata": {},
   "outputs": [
    {
     "name": "stdout",
     "output_type": "stream",
     "text": [
      "Rata profitului net 2021    18.631707\n",
      "Rata profitului net 2020     7.471573\n",
      "Rata profitului net 2019    14.848933\n",
      "Rata profitului net 2018     4.108052\n",
      "dtype: float64\n",
      "11.265066445221445\n"
     ]
    }
   ],
   "source": [
    "# column_means = filtered_df[selected_columns].mean(axis=0)\n",
    "# print(column_means)\n",
    "\n",
    "# print(column_means.mean())"
   ]
  },
  {
   "cell_type": "code",
   "execution_count": 55,
   "metadata": {},
   "outputs": [
    {
     "name": "stdout",
     "output_type": "stream",
     "text": [
      "Minimum value in column '-825.0': -825.0\n",
      "Minimum value in column '526.0': 526.0\n"
     ]
    }
   ],
   "source": [
    "# min = df['Rata profitului net 2019'].min()\n",
    "# max = df['Rata profitului net 2019'].max()\n",
    "\n",
    "# print(\"Minimum value in column '{}': {}\".format(min, min))\n",
    "# print(\"Minimum value in column '{}': {}\".format(max, max))\n",
    "\n"
   ]
  },
  {
   "cell_type": "code",
   "execution_count": 46,
   "metadata": {},
   "outputs": [
    {
     "name": "stdout",
     "output_type": "stream",
     "text": [
      "-5.689198320488799\n"
     ]
    }
   ],
   "source": [
    "# overall_mean = column_means.mean()\n",
    "# print(overall_mean)"
   ]
  },
  {
   "cell_type": "code",
   "execution_count": 38,
   "metadata": {},
   "outputs": [
    {
     "name": "stdout",
     "output_type": "stream",
     "text": [
      "0.0571100602399738\n"
     ]
    }
   ],
   "source": [
    "# correlation = df['zile_de_la_deschiderea_afacerii'].corr(df['CA_medie'])\n",
    "# print(correlation)"
   ]
  },
  {
   "cell_type": "code",
   "execution_count": 40,
   "metadata": {},
   "outputs": [
    {
     "data": {
      "image/png": "[encoded data removed]",
      "text/plain": [
       "<Figure size 640x480 with 1 Axes>"
      ]
     },
     "metadata": {},
     "output_type": "display_data"
    },
    {
     "name": "stdout",
     "output_type": "stream",
     "text": [
      "-0.009380359454780553\n"
     ]
    },
    {
     "data": {
      "text/plain": [
       "<Figure size 640x480 with 0 Axes>"
      ]
     },
     "metadata": {},
     "output_type": "display_data"
    }
   ],
   "source": [
    "# plt.scatter(df['zile_de_la_deschiderea_afacerii'], df['CA_medie'])\n",
    "\n",
    "# # Set x and y axis labels\n",
    "# plt.xlabel('Număr zile între data de 31.01.2021 și data deschiderii pensiunii')\n",
    "# plt.ylabel('Media Cifrei de afaceri')\n",
    "\n",
    "# # Set the title of the graph\n",
    "# plt.title('Tip Categorie vs Cifra de afacere')\n",
    "# plt.show()\n",
    "# correlation = df['Tip categorie'].corr(df['Cheltuieli_medie'])\n",
    "# plt.savefig(\"Grafic de dispersie între Număr zile între data de 31.01.2021 și data deschiderii pensiunii și Cifra de afaceri.png\")\n",
    "\n",
    "# print(correlation)"
   ]
  },
  {
   "cell_type": "code",
   "execution_count": 41,
   "metadata": {},
   "outputs": [
    {
     "data": {
      "image/png": "[encoded data removed]",
      "text/plain": [
       "<Figure size 640x480 with 1 Axes>"
      ]
     },
     "metadata": {},
     "output_type": "display_data"
    },
    {
     "name": "stdout",
     "output_type": "stream",
     "text": [
      "-0.009380359454780553\n"
     ]
    },
    {
     "data": {
      "text/plain": [
       "<Figure size 640x480 with 0 Axes>"
      ]
     },
     "metadata": {},
     "output_type": "display_data"
    }
   ],
   "source": [
    "# plt.scatter(df['zile_de_la_deschiderea_afacerii'], df['Profit_medie'])\n",
    "\n",
    "# # Set x and y axis labels\n",
    "# plt.xlabel('Număr zile între data de 31.01.2021 și data deschiderii pensiunii')\n",
    "# plt.ylabel('Media de Profit')\n",
    "\n",
    "# # Set the title of the graph\n",
    "# plt.title('Tip Categorie vs Cifra de afacere')\n",
    "# plt.show()\n",
    "# correlation = df['Tip categorie'].corr(df['Cheltuieli_medie'])\n",
    "# plt.savefig(\"Grafic de dispersie între Număr zile între data de 31.01.2021 și data deschiderii pensiunii și Media de profit.png\")\n",
    "\n",
    "# print(correlation)"
   ]
  },
  {
   "cell_type": "code",
   "execution_count": 42,
   "metadata": {},
   "outputs": [
    {
     "name": "stdout",
     "output_type": "stream",
     "text": [
      "-0.06962551054980945\n"
     ]
    }
   ],
   "source": [
    "# correlation = df['zile_de_la_deschiderea_afacerii'].corr(df['Profit_medie'])\n",
    "# print(correlation)"
   ]
  },
  {
   "cell_type": "code",
   "execution_count": 23,
   "metadata": {},
   "outputs": [],
   "source": [
    "df['Angajati_medie'] = df[[\"Numar mediu de angajați 2021\", \"Numar mediu de angajați 2020\", \"Numar mediu de angajați 2019\", \"Numar mediu de angajați 2018\"]].apply(np.median, axis=1)\n"
   ]
  },
  {
   "cell_type": "code",
   "execution_count": null,
   "metadata": {},
   "outputs": [],
   "source": []
  },
  {
   "cell_type": "code",
   "execution_count": 31,
   "metadata": {},
   "outputs": [
    {
     "data": {
      "image/png": "[encoded data removed]",
      "text/plain": [
       "<Figure size 640x480 with 1 Axes>"
      ]
     },
     "metadata": {},
     "output_type": "display_data"
    },
    {
     "name": "stdout",
     "output_type": "stream",
     "text": [
      "-0.33293127460225397\n"
     ]
    },
    {
     "data": {
      "text/plain": [
       "<Figure size 640x480 with 0 Axes>"
      ]
     },
     "metadata": {},
     "output_type": "display_data"
    }
   ],
   "source": [
    "plt.scatter(df['Angajati_medie'], df['CA_medie'])\n",
    "\n",
    "plt.xlabel('Număr mediu de angajați')\n",
    "plt.ylabel('Cifra de afaceri medie')\n",
    "\n",
    "# Set the title of the graph\n",
    "plt.title('Cifra de afaceri medie vs număr de angajați mediu')\n",
    "plt.show()\n",
    "correlation = df['CA_medie'].corr(df['Angajati_medie'])\n",
    "plt.savefig(\"Grafic de dispersie între Cifra de afaceri medie și numărul de angajați în medie\")\n",
    "\n",
    "print(correlation)"
   ]
  },
  {
   "cell_type": "code",
   "execution_count": 33,
   "metadata": {},
   "outputs": [
    {
     "data": {
      "image/png": "[encoded data removed]",
      "text/plain": [
       "<Figure size 640x480 with 1 Axes>"
      ]
     },
     "metadata": {},
     "output_type": "display_data"
    },
    {
     "name": "stdout",
     "output_type": "stream",
     "text": [
      "-0.33293127460225397\n"
     ]
    },
    {
     "data": {
      "text/plain": [
       "<Figure size 640x480 with 0 Axes>"
      ]
     },
     "metadata": {},
     "output_type": "display_data"
    }
   ],
   "source": [
    "plt.scatter(df['Profit_medie'], df['Angajati_medie'])\n",
    "\n",
    "plt.xlabel('Profit mediu')\n",
    "plt.ylabel('Număr mediu de angajați')\n",
    "\n",
    "# Set the title of the graph\n",
    "plt.title('Profitul mediu vs număr de angajați mediu')\n",
    "plt.show()\n",
    "correlation = df['CA_medie'].corr(df['Angajati_medie'])\n",
    "plt.savefig(\"Grafic de dispersie între Profitul mediu și numărul de angajați în medie\")\n",
    "\n",
    "print(correlation)"
   ]
  },
  {
   "cell_type": "code",
   "execution_count": 37,
   "metadata": {},
   "outputs": [
    {
     "name": "stdout",
     "output_type": "stream",
     "text": [
      "1.0\n"
     ]
    }
   ],
   "source": [
    "selected_columns = ['Angajati_medie', 'Profit_medie']\n",
    "\n",
    "# Create a new DataFrame with only the selected columns\n",
    "selected_df = df[selected_columns].copy()  # Added .copy() to avoid SettingWithCopyWarning\n",
    "\n",
    "\n",
    "# Calculate the profit per employee for each row\n",
    "selected_df['Profit per employee'] = selected_df['Profit_medie'] / selected_df['Angajati_medie']\n",
    "\n",
    "# Find the row with the highest profit per employee\n",
    "optimal_row = selected_df.loc[selected_df['Profit per employee'].idxmax()]\n",
    "\n",
    "# Extract the number of employees from that row\n",
    "optimal_employees = optimal_row['Angajati_medie']\n",
    "print(optimal_employees)"
   ]
  },
  {
   "cell_type": "code",
   "execution_count": 39,
   "metadata": {},
   "outputs": [
    {
     "name": "stdout",
     "output_type": "stream",
     "text": [
      "Optimal number of employees for highest average profit: 32.5\n"
     ]
    }
   ],
   "source": [
    "grouped_df = df.groupby('Angajati_medie')\n",
    "\n",
    "# Calculate the average profit for each group\n",
    "average_profits = grouped_df['Profit_medie'].mean()\n",
    "\n",
    "# Find the group with the highest average profit\n",
    "optimal_group = average_profits.idxmax()\n",
    "\n",
    "print(\"Optimal number of employees for highest average profit:\", optimal_group)"
   ]
  },
  {
   "cell_type": "code",
   "execution_count": 42,
   "metadata": {},
   "outputs": [
    {
     "data": {
      "image/png": "[encoded data removed]",
      "text/plain": [
       "<Figure size 640x480 with 1 Axes>"
      ]
     },
     "metadata": {},
     "output_type": "display_data"
    }
   ],
   "source": [
    "sns.boxplot(x=df['Cifra de afaceri neta 2019'])\n",
    "plt.show()"
   ]
  },
  {
   "cell_type": "code",
   "execution_count": 40,
   "metadata": {},
   "outputs": [
    {
     "name": "stdout",
     "output_type": "stream",
     "text": [
      "Cifra de afaceri neta 2021    211.353513\n",
      "Cifra de afaceri neta 2020    232.267831\n",
      "Cifra de afaceri neta 2019    114.916040\n",
      "Cifra de afaceri neta 2018    154.015050\n",
      "dtype: float64\n",
      "final median 178.1381083261658\n"
     ]
    }
   ],
   "source": [
    "selected_columns = ['Cifra de afaceri neta 2021', 'Cifra de afaceri neta 2020', 'Cifra de afaceri neta 2019', 'Cifra de afaceri neta 2018']\n",
    "row_medians = df[selected_columns].mean()\n",
    "\n",
    "# Filter rows with a positive median and count them\n",
    "print(row_medians)\n",
    "print('final median', row_medians.mean())"
   ]
  },
  {
   "attachments": {},
   "cell_type": "markdown",
   "metadata": {},
   "source": [
    "## Rata medie a modificarii cifrei de afaceri"
   ]
  },
  {
   "cell_type": "code",
   "execution_count": 46,
   "metadata": {},
   "outputs": [
    {
     "name": "stdout",
     "output_type": "stream",
     "text": [
      "Overall average modification rate: 9.725098231678404\n"
     ]
    }
   ],
   "source": [
    "profit_columns = ['Cifra de afaceri neta 2021', 'Cifra de afaceri neta 2020', 'Cifra de afaceri neta 2019', 'Cifra de afaceri neta 2018']\n",
    "selected_df = df[profit_columns]\n",
    "\n",
    "pct_change_df = selected_df.pct_change(axis=1)\n",
    "\n",
    "# Calculate the average percentage change across the 4 columns\n",
    "average_pct_change = pct_change_df.mean(axis=1)\n",
    "\n",
    "# Calculate the overall average modification rate for all the rows\n",
    "overall_average_modification_rate = average_pct_change.mean()\n",
    "\n",
    "print(\"Overall average modification rate:\", overall_average_modification_rate)"
   ]
  },
  {
   "attachments": {},
   "cell_type": "markdown",
   "metadata": {},
   "source": [
    "## Rata medie a modificarii profitului"
   ]
  },
  {
   "cell_type": "code",
   "execution_count": 47,
   "metadata": {},
   "outputs": [
    {
     "name": "stdout",
     "output_type": "stream",
     "text": [
      "Overall average modification rate: 6.324007171247284\n"
     ]
    }
   ],
   "source": [
    "profit_columns = ['Profit net 2021', 'Profit net 2020', 'Profit net 2019', 'Profit net 2018']\n",
    "selected_df = df[profit_columns]\n",
    "\n",
    "pct_change_df = selected_df.pct_change(axis=1)\n",
    "\n",
    "# Calculate the average percentage change across the 4 columns\n",
    "average_pct_change = pct_change_df.mean(axis=1)\n",
    "\n",
    "# Calculate the overall average modification rate for all the rows\n",
    "overall_average_modification_rate = average_pct_change.mean()\n",
    "\n",
    "print(\"Overall average modification rate:\", overall_average_modification_rate)"
   ]
  },
  {
   "attachments": {},
   "cell_type": "markdown",
   "metadata": {},
   "source": [
    "## Rata medie a modificarii costurilor"
   ]
  },
  {
   "cell_type": "code",
   "execution_count": 48,
   "metadata": {},
   "outputs": [
    {
     "name": "stdout",
     "output_type": "stream",
     "text": [
      "Overall average modification rate: 8.873954648008949\n"
     ]
    }
   ],
   "source": [
    "profit_columns = ['Cheltuieli totale 2021', 'Cheltuieli totale 2020', 'Cheltuieli totale 2019', 'Cheltuieli totale 2018']\n",
    "selected_df = df[profit_columns]\n",
    "\n",
    "pct_change_df = selected_df.pct_change(axis=1)\n",
    "\n",
    "# Calculate the average percentage change across the 4 columns\n",
    "average_pct_change = pct_change_df.mean(axis=1)\n",
    "\n",
    "# Calculate the overall average modification rate for all the rows\n",
    "overall_average_modification_rate = average_pct_change.mean()\n",
    "\n",
    "print(\"Overall average modification rate:\", overall_average_modification_rate)"
   ]
  },
  {
   "attachments": {},
   "cell_type": "markdown",
   "metadata": {},
   "source": [
    "## Numarul de pensiuni agroturistice cu profit medie in pierdere per judet"
   ]
  },
  {
   "cell_type": "code",
   "execution_count": 51,
   "metadata": {},
   "outputs": [
    {
     "name": "stdout",
     "output_type": "stream",
     "text": [
      "Number of occurrences for each 'Judet' value with a negative profit:\n",
      "Judet\n",
      "Alba                2\n",
      "Arad                1\n",
      "Argeș               2\n",
      "Bihor               2\n",
      "Bistrița-Năsăud     4\n",
      "Brașov              2\n",
      "Buzău               1\n",
      "Cluj               10\n",
      "Covasna             2\n",
      "Dolj                2\n",
      "Gorj                2\n",
      "Harghita            4\n",
      "Hunedoara           2\n",
      "Maramureș           4\n",
      "Mehedinți           1\n",
      "Neamț               2\n",
      "Satu Mare           2\n",
      "Sibiu               1\n",
      "Suceava             2\n",
      "Sălaj               4\n",
      "Tulcea              8\n",
      "dtype: int64\n"
     ]
    }
   ],
   "source": [
    "negative_profit_df = df[df['Profit_medie'] < 0]\n",
    "\n",
    "# Group the filtered DataFrame by the \"Judet\" column\n",
    "grouped_df = negative_profit_df.groupby('Judet')\n",
    "\n",
    "# Count the number of occurrences for each \"Judet\" value\n",
    "judet_counts = grouped_df.size()\n",
    "\n",
    "print(\"Number of occurrences for each 'Judet' value with a negative profit:\")\n",
    "print(judet_counts)\n",
    "judet_counts.to_excel('Numarul de pensiuni agroturistice cu profit medie in pierdere per judet.xlsx')"
   ]
  },
  {
   "attachments": {},
   "cell_type": "markdown",
   "metadata": {},
   "source": [
    "## Impartire per tip operator economic"
   ]
  },
  {
   "cell_type": "code",
   "execution_count": 61,
   "metadata": {},
   "outputs": [],
   "source": [
    "def median_fiscal_value(row):\n",
    "    values = row[['Cifra de afaceri neta 2021', 'Cifra de afaceri neta 2020', 'Cifra de afaceri neta 2019', 'Cifra de afaceri neta 2018']].dropna()\n",
    "    \n",
    "    if len(values) <= 1:\n",
    "        return np.nan\n",
    "    else:\n",
    "        return values.median()\n",
    "\n",
    "# Create a new column with the median fiscal value\n",
    "df['CA_medie'] = df.apply(median_fiscal_value, axis=1)"
   ]
  },
  {
   "cell_type": "code",
   "execution_count": 72,
   "metadata": {},
   "outputs": [
    {
     "name": "stdout",
     "output_type": "stream",
     "text": [
      "Tip Operator Economic\n",
      "Asociație Familială                   5\n",
      "Persoană Fizică Autorizată           17\n",
      "Persoană Fizică.                     42\n",
      "Societate cu Răspundere Limitată    359\n",
      "Societate în Nume Colectiv            1\n",
      "Întreprindere Familială               9\n",
      "Întreprindere Individuală            21\n",
      "dtype: int64\n"
     ]
    }
   ],
   "source": [
    "grouped_df = df.groupby('Tip Operator Economic')\n",
    "\n",
    "# Count the number of occurrences for each \"Judet\" value\n",
    "tip_operator_df = grouped_df.size()\n",
    "print(tip_operator_df)\n",
    "tip_operator_df.to_excel('Impartire în funcție de tipul de oprator economic.xlsx')"
   ]
  },
  {
   "cell_type": "code",
   "execution_count": 66,
   "metadata": {},
   "outputs": [
    {
     "name": "stdout",
     "output_type": "stream",
     "text": [
      "[ 88.049   27.7855   2.9935 261.0955 443.1685   5.35     2.334    2.146\n",
      " 441.94    21.4765  11.323       nan 349.234    3.9055   4.8795 359.067\n",
      "   4.622    5.8665 248.223  120.1615   1.1175   1.155    3.19    32.1255\n",
      " 168.1625 548.346    6.2315  92.33   150.275    7.6005   9.0255   1.331\n",
      " 159.8135  90.4945 495.005  335.401  155.2    132.186    2.1785  35.4985\n",
      "   2.6595   8.761   43.076  400.596   35.873   53.047   18.06   247.308\n",
      " 141.831  590.964   66.272  296.2145 183.3485 204.2645   2.562   19.4255\n",
      "  56.097  313.4505   2.8845 768.127  565.694  256.3185 157.8295  72.3155\n",
      " 130.998    4.834   83.6825 301.644  136.2315 376.618  156.494  641.171\n",
      "  31.486  214.8095 270.7385  32.638  174.163  168.6135 737.5525  52.2185\n",
      "  18.97     8.282   85.518  122.834   46.143    2.4755 630.643  254.754\n",
      "  94.309  257.0485 309.206   16.7025  34.7325 321.366    1.424  232.162\n",
      "  87.3425 261.3215  44.478  208.3825  50.252   85.3285  68.461   20.339\n",
      "  96.871  859.929    6.696  321.2875 129.385  564.677  237.0065  18.776\n",
      " 357.024   30.3235  57.2715   1.6875  88.4785  59.96    13.429    7.6055\n",
      " 291.2035 526.674  103.751    3.6665 251.722  693.309  135.24   209.753\n",
      "  45.18   371.903   20.897    5.5285 248.7     78.8165 580.467   27.96\n",
      "   1.838    7.9345 494.884  410.5485 547.022   76.1195 483.933   21.1485\n",
      " 204.2655 128.251    3.0645   9.2375 572.503   14.2305 385.023  133.5425\n",
      " 631.006  196.9325  63.2925 287.859  194.4795  26.05     4.592   56.4\n",
      " 118.279   10.088   44.156  314.34   165.286  201.3385  55.1445   3.65\n",
      " 121.054   29.052    1.24   105.943  201.032  101.703    2.708  166.3025\n",
      "   1.608   84.6635  58.512   40.4485  67.944   34.4975  23.744  289.3205\n",
      " 252.4575 225.691   66.4     38.8395  53.155    1.7055  24.4295 232.962\n",
      "  58.595  129.791  480.184  109.5745 354.898   98.5     73.9895 612.7515\n",
      "  15.0245 136.155  484.65    43.327   72.307   25.2    102.772    3.257\n",
      "  51.6     67.878   77.754    2.528   57.343  268.0385 163.3215   4.958\n",
      "  25.15    58.707   60.299   42.507   78.073  110.005   94.5155 248.566\n",
      "  70.198  183.762   60.289  102.0385 139.829  116.7995 108.765  121.177\n",
      "  52.8235  42.525  198.2645  43.657  346.745  119.629   28.4025  75.845\n",
      "  20.62   229.3575 417.885   50.456   64.9095  67.0825  74.1775  19.771\n",
      " 345.919   52.2245 117.328  197.0835 145.715   24.589  181.617   54.54\n",
      "  45.195   65.7425 223.769  182.98    74.7645  41.2315  20.93   183.9665\n",
      " 129.595   15.175   22.7535  61.1685  45.2365  18.9     11.     467.3055\n",
      " 285.024   94.458   71.06   232.961  256.862   44.486   19.215  127.9655\n",
      "  24.4675 182.683   19.8    121.403  129.5135  72.2905 315.036 ]\n"
     ]
    }
   ],
   "source": [
    "unique_ca = df['CA_medie'].unique()\n",
    "print(unique_ca)"
   ]
  },
  {
   "cell_type": "code",
   "execution_count": 71,
   "metadata": {},
   "outputs": [
    {
     "name": "stdout",
     "output_type": "stream",
     "text": [
      "Tip Operator Economic\n",
      "Asociație Familială                 315.036000\n",
      "Persoană Fizică Autorizată          315.036000\n",
      "Persoană Fizică.                    315.036000\n",
      "Societate cu Răspundere Limitată    160.049239\n",
      "Societate în Nume Colectiv          315.036000\n",
      "Întreprindere Familială             315.036000\n",
      "Întreprindere Individuală           300.977143\n",
      "Name: CA_medie, dtype: float64\n"
     ]
    }
   ],
   "source": [
    "grouped_df = df.groupby('Tip Operator Economic')\n",
    "\n",
    "# Calculate the median profit for each group\n",
    "median_ca_by_company_name = grouped_df['CA_medie'].mean()\n",
    "\n",
    "print(median_ca_by_company_name)\n",
    "median_ca_by_company_name.to_excel('Cifra de afaceri medie în funcție de tipul operatorului economic.xlsx')\n"
   ]
  },
  {
   "attachments": {},
   "cell_type": "markdown",
   "metadata": {},
   "source": [
    "## Corelatie intre profit si numar angajati "
   ]
  },
  {
   "cell_type": "code",
   "execution_count": 33,
   "metadata": {},
   "outputs": [
    {
     "name": "stdout",
     "output_type": "stream",
     "text": [
      "-0.1703813942992964\n"
     ]
    }
   ],
   "source": [
    "correlation = df['Angajati_medie'].corr(df['CA_medie'])\n",
    "print(correlation)"
   ]
  }
 ],
 "metadata": {
  "kernelspec": {
   "display_name": "Python 3",
   "language": "python",
   "name": "python3"
  },
  "language_info": {
   "codemirror_mode": {
    "name": "ipython",
    "version": 3
   },
   "file_extension": ".py",
   "mimetype": "text/x-python",
   "name": "python",
   "nbconvert_exporter": "python",
   "pygments_lexer": "ipython3",
   "version": "3.11.3"
  },
  "orig_nbformat": 4
 },
 "nbformat": 4,
 "nbformat_minor": 2
}
