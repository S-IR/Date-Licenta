{
 "cells": [
  {
   "cell_type": "code",
   "execution_count": 1,
   "metadata": {},
   "outputs": [],
   "source": [
    "import pandas as pd\n",
    "import numpy as np\n",
    "\n",
    "import matplotlib.pyplot as plt"
   ]
  },
  {
   "cell_type": "code",
   "execution_count": 2,
   "metadata": {},
   "outputs": [
    {
     "name": "stdout",
     "output_type": "stream",
     "text": [
      "                               Tip unitate        Nume Unitate Tip categorie   \n",
      "Numar Inregistrare                                                             \n",
      "J12/1823/1991       PENSIUNE AGROTURISTICĂ           PĂSTRĂVUL   3 MARGARETE  \\\n",
      "J12/4339/1991       PENSIUNE AGROTURISTICĂ       CASA PETRU II       2 FLORI   \n",
      "J12/4339/1991       PENSIUNE AGROTURISTICĂ   CASA PETRU STOLNA       2 FLORI   \n",
      "J19/694/1992        PENSIUNE AGROTURISTICĂ                VARI   3 MARGARETE   \n",
      "J33/765/1991        PENSIUNE AGROTURISTICĂ             LUCIANO       3 FLORI   \n",
      "...                                    ...                 ...           ...   \n",
      "J36/483/2006        PENSIUNE AGROTURISTICĂ             VASILIU       2 FLORI   \n",
      "F38/394/2010        PENSIUNE AGROTURISTICĂ              ARNOTA       2 FLORI   \n",
      "F38/709/2008        PENSIUNE AGROTURISTICĂ      CASA FILOXENIA       3 FLORI   \n",
      "F38/532/2006        PENSIUNE AGROTURISTICĂ         STOICA ILIE       2 FLORI   \n",
      "J/38/1264/1994      PENSIUNE AGROTURISTICĂ  POPASUL HAIDUCULUI       3 FLORI   \n",
      "\n",
      "                    Numar spatii  Numar locuri        Alte Detalii Adresa   \n",
      "Numar Inregistrare                                                          \n",
      "J12/1823/1991                  7            15                  Nr. 138/A  \\\n",
      "J12/4339/1991                  3             6                    Nr. 47A   \n",
      "J12/4339/1991                  3             6                    nr. 47A   \n",
      "J19/694/1992                   5            10   Str. Principală, Nr. 151   \n",
      "J33/765/1991                  15            29                    nr. 549   \n",
      "...                          ...           ...                        ...   \n",
      "J36/483/2006                   6            12  strada Principală nr.180A   \n",
      "F38/394/2010                   4             9                    NR. 322   \n",
      "F38/709/2008                   5            10     STR. MANASTIRII, NR. 8   \n",
      "F38/532/2006                   4             8                    NR. 106   \n",
      "J/38/1264/1994                10            21      STR. GROTULUI, BL. B6   \n",
      "\n",
      "                   Tip Localitate      Localitate Tip Localitate Componenta   \n",
      "Numar Inregistrare                                                            \n",
      "J12/1823/1991                com.  Muguri-Răcătău                       sat  \\\n",
      "J12/4339/1991                com.       Savadisla                       sat   \n",
      "J12/4339/1991                com.       Savadisla                       sat   \n",
      "J19/694/1992                 com.           Zetea                       sat   \n",
      "J33/765/1991                 com.    Fântâna Mare                       sat   \n",
      "...                           ...             ...                       ...   \n",
      "J36/483/2006                 com.          Crișan                       sat   \n",
      "F38/394/2010                 com.        Costești                       sat   \n",
      "F38/709/2008                 oraș          Horezu     localitate componentă   \n",
      "F38/532/2006                 com.         Tomșani                       sat   \n",
      "J/38/1264/1994               com.        Voineasa                       sat   \n",
      "\n",
      "                   Localitate Componenta  ... Numar mediu de angajați 2018   \n",
      "Numar Inregistrare                        ...                                \n",
      "J12/1823/1991               Muntele Rece  ...                          NaN  \\\n",
      "J12/4339/1991                     Stolna  ...                          1.0   \n",
      "J12/4339/1991                     Stolna  ...                          1.0   \n",
      "J19/694/1992                  Sub Cetate  ...                         17.0   \n",
      "J33/765/1991                  SPATARESTI  ...                          9.0   \n",
      "...                                  ...  ...                          ...   \n",
      "J36/483/2006                      CRISAN  ...                          4.0   \n",
      "F38/394/2010                    COSTESTI  ...                          4.0   \n",
      "F38/709/2008              ROMANII DE JOS  ...                          4.0   \n",
      "F38/532/2006                  BOGDANESTI  ...                          4.0   \n",
      "J/38/1264/1994                  Voineasa  ...                          4.0   \n",
      "\n",
      "                               Rating Număr de Recenzii  Altitudine   \n",
      "Numar Inregistrare                                                    \n",
      "J12/1823/1991                     4,8              60.0  460.932098  \\\n",
      "J12/4339/1991       nu exista valoare               NaN  437.595581   \n",
      "J12/4339/1991       nu exista valoare               NaN  437.595581   \n",
      "J19/694/1992                      5,0               NaN  759.586914   \n",
      "J33/765/1991                      3,9             187.0  523.018066   \n",
      "...                               ...               ...         ...   \n",
      "J36/483/2006        nu exista valoare               NaN  891.215332   \n",
      "F38/394/2010                      4,8              59.0  891.215332   \n",
      "F38/709/2008                      4,3              76.0  891.215332   \n",
      "F38/532/2006        nu exista valoare               NaN  557.843689   \n",
      "J/38/1264/1994      nu exista valoare               NaN  660.893188   \n",
      "\n",
      "                   Latitudine Longitudine Temperatura maxima medie   \n",
      "Numar Inregistrare                                                   \n",
      "J12/1823/1991       46.644970   23.283053                10.865000  \\\n",
      "J12/4339/1991       46.711719   23.400644                14.074737   \n",
      "J12/4339/1991       46.711719   23.400644                14.074737   \n",
      "J19/694/1992        46.444268   25.392188                13.881842   \n",
      "J33/765/1991        47.427728   26.299804                13.837105   \n",
      "...                       ...         ...                      ...   \n",
      "J36/483/2006        47.197257   25.263759                10.322105   \n",
      "F38/394/2010        47.197257   25.263759                10.322105   \n",
      "F38/709/2008        47.197257   25.263759                10.322105   \n",
      "F38/532/2006        47.774637   25.706188                12.830526   \n",
      "J/38/1264/1994      47.564947   25.694516                13.151579   \n",
      "\n",
      "                   Temperatura minima medie  Temperatura medie   \n",
      "Numar Inregistrare                                               \n",
      "J12/1823/1991                      2.830526           6.847763  \\\n",
      "J12/4339/1991                      4.653947           9.364342   \n",
      "J12/4339/1991                      4.653947           9.364342   \n",
      "J19/694/1992                       5.058947           9.470395   \n",
      "J33/765/1991                       5.130789           9.483947   \n",
      "...                                     ...                ...   \n",
      "J36/483/2006                       2.840789           6.581447   \n",
      "F38/394/2010                       2.840789           6.581447   \n",
      "F38/709/2008                       2.840789           6.581447   \n",
      "F38/532/2006                       4.516316           8.673421   \n",
      "J/38/1264/1994                     4.939211           9.045395   \n",
      "\n",
      "                    Precipitatiile zilnice medii  \n",
      "Numar Inregistrare                                \n",
      "J12/1823/1991                           3.675526  \n",
      "J12/4339/1991                           2.388684  \n",
      "J12/4339/1991                           2.388684  \n",
      "J19/694/1992                            2.093947  \n",
      "J33/765/1991                            1.825789  \n",
      "...                                          ...  \n",
      "J36/483/2006                            2.925789  \n",
      "F38/394/2010                            2.925789  \n",
      "F38/709/2008                            2.925789  \n",
      "F38/532/2006                            2.101053  \n",
      "J/38/1264/1994                          2.138947  \n",
      "\n",
      "[454 rows x 47 columns]\n"
     ]
    }
   ],
   "source": [
    "df = pd.read_excel(\"date_python.xlsx\",index_col=\"Numar Inregistrare\")\n",
    "print(df)"
   ]
  },
  {
   "cell_type": "code",
   "execution_count": 6,
   "metadata": {},
   "outputs": [],
   "source": [
    "def median_profit(row):\n",
    "    values = row[['Profit net 2021', 'Profit net 2020', 'Profit net 2019', 'Profit net 2018']].dropna()\n",
    "    \n",
    "    if len(values) <= 1:\n",
    "        return np.nan\n",
    "    else:\n",
    "        return values.median()\n",
    "\n",
    "# Create a new column with the median fiscal value\n",
    "df['Profit_medie'] = df.apply(median_profit, axis=1)"
   ]
  },
  {
   "cell_type": "code",
   "execution_count": 4,
   "metadata": {},
   "outputs": [],
   "source": [
    "def median_fiscal_value(row):\n",
    "    values = row[['Cifra de afaceri neta 2021', 'Cifra de afaceri neta 2020', 'Cifra de afaceri neta 2019', 'Cifra de afaceri neta 2018']].dropna()\n",
    "    \n",
    "    if len(values) <= 1:\n",
    "        return np.nan\n",
    "    else:\n",
    "        return values.median()\n",
    "\n",
    "# Create a new column with the median fiscal value\n",
    "df['CA_medie'] = df.apply(median_fiscal_value, axis=1)"
   ]
  },
  {
   "attachments": {},
   "cell_type": "markdown",
   "metadata": {},
   "source": [
    "## Corelatie intre altitudine si profit"
   ]
  },
  {
   "cell_type": "code",
   "execution_count": 6,
   "metadata": {},
   "outputs": [
    {
     "name": "stdout",
     "output_type": "stream",
     "text": [
      "                    Profit_medie  Altitudine\n",
      "Numar Inregistrare                          \n",
      "J12/1823/1991            12.2140  460.932098\n",
      "J12/4339/1991             8.9605  437.595581\n",
      "J12/4339/1991             8.9605  437.595581\n",
      "J19/694/1992            319.2555  759.586914\n",
      "J33/765/1991            -19.7735  523.018066\n",
      "...                          ...         ...\n",
      "J36/483/2006             50.2685  891.215332\n",
      "F38/394/2010             50.2685  891.215332\n",
      "F38/709/2008             50.2685  891.215332\n",
      "F38/532/2006             50.2685  557.843689\n",
      "J/38/1264/1994           50.2685  660.893188\n",
      "\n",
      "[454 rows x 2 columns]\n"
     ]
    }
   ],
   "source": [
    "column_names = ['Profit_medie', 'Altitudine']\n",
    "new_df = pd.DataFrame(df[column_names])\n",
    "print(new_df)"
   ]
  },
  {
   "cell_type": "code",
   "execution_count": 7,
   "metadata": {},
   "outputs": [],
   "source": [
    "new_df.to_excel('Corelatie intre altitudine si profit.xlsx')"
   ]
  },
  {
   "cell_type": "code",
   "execution_count": 8,
   "metadata": {},
   "outputs": [
    {
     "name": "stdout",
     "output_type": "stream",
     "text": [
      "                    CA_medie  Altitudine\n",
      "Numar Inregistrare                      \n",
      "J12/1823/1991        88.0490  460.932098\n",
      "J12/4339/1991        27.7855  437.595581\n",
      "J12/4339/1991        27.7855  437.595581\n",
      "J19/694/1992          2.9935  759.586914\n",
      "J33/765/1991        261.0955  523.018066\n",
      "...                      ...         ...\n",
      "J36/483/2006        315.0360  891.215332\n",
      "F38/394/2010        315.0360  891.215332\n",
      "F38/709/2008        315.0360  891.215332\n",
      "F38/532/2006        315.0360  557.843689\n",
      "J/38/1264/1994      315.0360  660.893188\n",
      "\n",
      "[454 rows x 2 columns]\n"
     ]
    }
   ],
   "source": [
    "column_names = ['CA_medie', 'Altitudine']\n",
    "new_df = pd.DataFrame(df[column_names])\n",
    "print(new_df)\n",
    "new_df.to_excel('Corelatie intre altitudine si cifra de afaceri.xlsx')\n"
   ]
  },
  {
   "cell_type": "code",
   "execution_count": 6,
   "metadata": {},
   "outputs": [],
   "source": [
    "df['CA_medie'] = df[[\"Cifra de afaceri neta 2021\", \"Cifra de afaceri neta 2020\", \"Cifra de afaceri neta 2019\", \"Cifra de afaceri neta 2018\"]].apply(np.median, axis=1)\n",
    "# "
   ]
  },
  {
   "attachments": {},
   "cell_type": "markdown",
   "metadata": {},
   "source": [
    "## Corelație intre precipitații, temperatura medie, diferențele de temperatura și profitul"
   ]
  },
  {
   "cell_type": "code",
   "execution_count": 7,
   "metadata": {},
   "outputs": [],
   "source": [
    "column_names = ['Profit_medie', 'Temperatura medie']\n",
    "new_df = pd.DataFrame(df[column_names])"
   ]
  },
  {
   "cell_type": "code",
   "execution_count": 8,
   "metadata": {},
   "outputs": [],
   "source": [
    "new_df.to_excel(\"Corelatie intre temperatura medie si media de profit.xlsx\")"
   ]
  },
  {
   "cell_type": "code",
   "execution_count": 10,
   "metadata": {},
   "outputs": [
    {
     "name": "stdout",
     "output_type": "stream",
     "text": [
      "Numar Inregistrare\n",
      "J12/1823/1991     8.034474\n",
      "J12/4339/1991     9.420789\n",
      "J12/4339/1991     9.420789\n",
      "J19/694/1992      8.822895\n",
      "J33/765/1991      8.706316\n",
      "                    ...   \n",
      "J36/483/2006      7.481316\n",
      "F38/394/2010      7.481316\n",
      "F38/709/2008      7.481316\n",
      "F38/532/2006      8.314211\n",
      "J/38/1264/1994    8.212368\n",
      "Name: Variatia Temperaturii, Length: 454, dtype: float64\n"
     ]
    }
   ],
   "source": [
    "df[\"Variatia Temperaturii\"] = df[\"Temperatura maxima medie\"] - df[\"Temperatura minima medie\"]\n",
    "print(df[\"Variatia Temperaturii\"])\n",
    "column_names = ['Variatia Temperaturii', 'Profit_medie']\n",
    "\n",
    "new_df = pd.DataFrame(df[column_names])\n",
    "new_df.to_excel(\"Corelatie intre variatia de temperatura si media de profit.xlsx\")\n"
   ]
  },
  {
   "cell_type": "code",
   "execution_count": 11,
   "metadata": {},
   "outputs": [
    {
     "name": "stdout",
     "output_type": "stream",
     "text": [
      "0.09089992052908877\n"
     ]
    }
   ],
   "source": [
    "correlation = df['Profit_medie'].corr(df['Variatia Temperaturii'])\n",
    "print(correlation)"
   ]
  },
  {
   "cell_type": "code",
   "execution_count": 10,
   "metadata": {},
   "outputs": [],
   "source": [
    "# df.dropna(subset=['CA_medie'], inplace=True)\n"
   ]
  },
  {
   "cell_type": "code",
   "execution_count": 11,
   "metadata": {},
   "outputs": [],
   "source": [
    "# judet_CA_avg_df = df.groupby(\"Judet\")[\"CA_medie\"].mean().reset_index()\n"
   ]
  },
  {
   "cell_type": "code",
   "execution_count": 12,
   "metadata": {},
   "outputs": [],
   "source": [
    "# judet_CA_avg_df.to_excel('judet_CA_avg_df.xlsx')"
   ]
  },
  {
   "cell_type": "code",
   "execution_count": 17,
   "metadata": {},
   "outputs": [],
   "source": [
    "# df['Cheltuieli_medie'] = df[[\"Cheltuieli totale 2021\", \"Cheltuieli totale 2020\", \"Cheltuieli totale 2019\", \"Cheltuieli totale 2018\"]].apply(np.median, axis=1)\n"
   ]
  },
  {
   "cell_type": "code",
   "execution_count": 24,
   "metadata": {},
   "outputs": [],
   "source": [
    "# judet_Cheltuieli_totale_avg_df = df.groupby(\"Judet\")[\"Cheltuieli_medie\"].mean().reset_index()\n"
   ]
  },
  {
   "cell_type": "code",
   "execution_count": 25,
   "metadata": {},
   "outputs": [],
   "source": [
    "# judet_Cheltuieli_totale_avg_df.to_excel('judet_Cheltuieli_totale_avg_df.xlsx')\n"
   ]
  },
  {
   "cell_type": "code",
   "execution_count": 26,
   "metadata": {},
   "outputs": [
    {
     "name": "stdout",
     "output_type": "stream",
     "text": [
      "              Judet  Count\n",
      "0              Alba     15\n",
      "1            Alba\\n      2\n",
      "2              Arad      3\n",
      "3             Argeș     11\n",
      "4             Bihor     11\n",
      "5   Bistrița-Năsăud     18\n",
      "6          Botoșani      2\n",
      "7            Brașov     22\n",
      "8            Brăila      1\n",
      "9             Buzău     10\n",
      "10             CLUJ      1\n",
      "11          COVASNA      1\n",
      "12    Caraș-Severin      3\n",
      "13             Cluj     58\n",
      "14        Constanța      4\n",
      "15          Covasna      9\n",
      "16             Dolj      5\n",
      "17           Galați      2\n",
      "18          Giurgiu      1\n",
      "19             Gorj     18\n",
      "20         Harghita     19\n",
      "21        Hunedoara     22\n",
      "22             Iași      3\n",
      "23            Ilfov      5\n",
      "24        Maramureș     57\n",
      "25        Mehedinți      9\n",
      "26            Mureș      3\n",
      "27            Neamț     11\n",
      "28              Olt      1\n",
      "29          Prahova      6\n",
      "30        Satu Mare      4\n",
      "31            Sibiu     16\n",
      "32          Suceava     40\n",
      "33            Sălaj     13\n",
      "34        Teleorman      1\n",
      "35            Timiș      2\n",
      "36           Tulcea     25\n",
      "37          Vrancea      5\n",
      "38           Vâlcea     15\n"
     ]
    }
   ],
   "source": [
    "# judet_counts = df.groupby('Judet').size().reset_index(name='Count')\n",
    "\n",
    "# Display the new DataFrame\n",
    "# print(judet_counts)"
   ]
  },
  {
   "cell_type": "code",
   "execution_count": 27,
   "metadata": {},
   "outputs": [],
   "source": [
    "# judet_counts.to_excel('Repartizarea pe harta a pensiunilor agroturistice pe judete.xlsx')\n"
   ]
  },
  {
   "cell_type": "code",
   "execution_count": 30,
   "metadata": {},
   "outputs": [],
   "source": [
    "# tip_localitate_count = df.groupby('Tip Localitate Componenta').size().reset_index(name='Total')\n"
   ]
  },
  {
   "cell_type": "code",
   "execution_count": 31,
   "metadata": {},
   "outputs": [
    {
     "data": {
      "text/html": [
       "<div>\n",
       "<style scoped>\n",
       "    .dataframe tbody tr th:only-of-type {\n",
       "        vertical-align: middle;\n",
       "    }\n",
       "\n",
       "    .dataframe tbody tr th {\n",
       "        vertical-align: top;\n",
       "    }\n",
       "\n",
       "    .dataframe thead th {\n",
       "        text-align: right;\n",
       "    }\n",
       "</style>\n",
       "<table border=\"1\" class=\"dataframe\">\n",
       "  <thead>\n",
       "    <tr style=\"text-align: right;\">\n",
       "      <th></th>\n",
       "      <th>Tip Localitate Componenta</th>\n",
       "      <th>Total</th>\n",
       "    </tr>\n",
       "  </thead>\n",
       "  <tbody>\n",
       "    <tr>\n",
       "      <th>0</th>\n",
       "      <td>Sat</td>\n",
       "      <td>1</td>\n",
       "    </tr>\n",
       "    <tr>\n",
       "      <th>1</th>\n",
       "      <td>com.</td>\n",
       "      <td>1</td>\n",
       "    </tr>\n",
       "    <tr>\n",
       "      <th>2</th>\n",
       "      <td>localitate componentă</td>\n",
       "      <td>15</td>\n",
       "    </tr>\n",
       "    <tr>\n",
       "      <th>3</th>\n",
       "      <td>sat</td>\n",
       "      <td>393</td>\n",
       "    </tr>\n",
       "  </tbody>\n",
       "</table>\n",
       "</div>"
      ],
      "text/plain": [
       "  Tip Localitate Componenta  Total\n",
       "0                       Sat      1\n",
       "1                      com.      1\n",
       "2     localitate componentă     15\n",
       "3                       sat    393"
      ]
     },
     "execution_count": 31,
     "metadata": {},
     "output_type": "execute_result"
    }
   ],
   "source": [
    "# tip_localitate_count"
   ]
  },
  {
   "cell_type": "code",
   "execution_count": null,
   "metadata": {},
   "outputs": [],
   "source": [
    "# tip_localitate_count.to_excel('Repartizarea pe harta a pensiunilor agroturistice pe judete.xlsx')\n"
   ]
  },
  {
   "cell_type": "code",
   "execution_count": 32,
   "metadata": {},
   "outputs": [],
   "source": [
    "# df['Profit_medie'] = df[[\"Profit net 2021\", \"Profit net 2020\", \"Profit net 2019\", \"Profit net 2018\"]].apply(np.median, axis=1)\n"
   ]
  },
  {
   "cell_type": "code",
   "execution_count": 33,
   "metadata": {},
   "outputs": [],
   "source": [
    "# judet_Profit_avg_df = df.groupby(\"Judet\")[\"Profit_medie\"].mean().reset_index()\n"
   ]
  },
  {
   "cell_type": "code",
   "execution_count": 34,
   "metadata": {},
   "outputs": [],
   "source": [
    "# judet_Profit_avg_df.to_excel('judet_Profit_avg_df.xlsx')\n"
   ]
  },
  {
   "cell_type": "code",
   "execution_count": 39,
   "metadata": {},
   "outputs": [
    {
     "name": "stdout",
     "output_type": "stream",
     "text": [
      "    Unnamed: 0            Judet    CA_medie  Pib_Capita_medie\n",
      "0            0             Alba  210.625500             21052\n",
      "1            2             Arad  630.643000             21607\n",
      "2            3            Argeș  157.888167             19122\n",
      "3            4            Bihor  122.075063             17108\n",
      "4            5  Bistrița-Năsăud  199.998357             15822\n",
      "5            6         Botoșani  252.457500             10426\n",
      "6            7           Brașov  184.026167             25515\n",
      "7            8           Brăila    7.934500             15084\n",
      "8            9            Buzău   52.828667             14166\n",
      "9           10    Caraș-Severin  209.753000             16099\n",
      "10          11             Cluj  109.434250             26694\n",
      "11          12        Constanța   81.134750             26694\n",
      "12          13          Covasna   45.304500             14748\n",
      "13          14             Dolj  177.051333             16103\n",
      "14          15           Galați   19.771000             14473\n",
      "15          16          Giurgiu    8.761000             14430\n",
      "16          17             Gorj  211.439188             20606\n",
      "17          18         Harghita  227.088750             14307\n",
      "18          19        Hunedoara  161.966444             16270\n",
      "19          20             Iași  259.302750             16575\n",
      "20          21            Ilfov    2.708000             26175\n",
      "21          22        Maramureș  175.001059             15419\n",
      "22          23        Mehedinți  204.144400             12101\n",
      "23          24            Neamț   62.514071             12743\n",
      "24          25              Olt  349.234000             12440\n",
      "25          26          Prahova  149.477100             22672\n",
      "26          27        Satu Mare  265.750500             15195\n",
      "27          28            Sibiu  157.795682             23215\n",
      "28          29          Suceava  170.852981             12160\n",
      "29          30            Sălaj   85.002929             11767\n",
      "30          31        Teleorman  693.309000             11767\n",
      "31          32            Timiș    5.350000             28973\n",
      "32          33           Tulcea  115.650000             16157\n",
      "33          34          Vrancea  252.424000             13158\n",
      "34          35           Vâlcea  215.961950             16205\n"
     ]
    }
   ],
   "source": []
  },
  {
   "cell_type": "code",
   "execution_count": 54,
   "metadata": {},
   "outputs": [
    {
     "name": "stdout",
     "output_type": "stream",
     "text": [
      "-0.08432859731149993\n"
     ]
    }
   ],
   "source": [
    "df['CA_medie'] = df[[\"Cifra de afaceri neta 2021\", \"Cifra de afaceri neta 2020\", \"Cifra de afaceri neta 2019\", \"Cifra de afaceri neta 2018\"]].apply(np.median, axis=1)\n",
    "\n",
    "\n",
    "correlation = df['Altitudine'].corr(df['Profit_medie'])\n",
    "print(correlation)"
   ]
  },
  {
   "cell_type": "code",
   "execution_count": 55,
   "metadata": {},
   "outputs": [],
   "source": [
    "df = df[df['Altitudine'] >= 0]\n"
   ]
  },
  {
   "cell_type": "code",
   "execution_count": 62,
   "metadata": {},
   "outputs": [
    {
     "data": {
      "image/png": "[encoded data removed]",
      "text/plain": [
       "<Figure size 640x480 with 1 Axes>"
      ]
     },
     "metadata": {},
     "output_type": "display_data"
    }
   ],
   "source": [
    "plt.scatter(df['Altitudine'], df['CA_medie'])\n",
    "\n",
    "# Set x and y axis labels\n",
    "plt.xlabel('Altitudine')\n",
    "plt.ylabel('Profit_medie')\n",
    "\n",
    "# Set the title of the graph\n",
    "plt.title('Altitudine vs Profit_medie')\n",
    "plt.savefig(\"Grafic de dispersie între Altitudine și Cifra de Afacere.png\")\n",
    "plt.show()"
   ]
  },
  {
   "cell_type": "code",
   "execution_count": 9,
   "metadata": {},
   "outputs": [
    {
     "data": {
      "image/png": "[encoded data removed]",
      "text/plain": [
       "<Figure size 640x480 with 1 Axes>"
      ]
     },
     "metadata": {},
     "output_type": "display_data"
    }
   ],
   "source": [
    "plt.scatter(df['Temperatura medie'], df['Profit_medie'])\n",
    "\n",
    "# Set x and y axis labels\n",
    "plt.xlabel('Temperatura medie')\n",
    "plt.ylabel('Profit Mediu')\n",
    "\n",
    "# Set the title of the graph\n",
    "plt.title('Temperatura medie vs Cifra de Afaceri')\n",
    "plt.savefig(\"Grafic de dispersie între Temperatura medie și Profit mediu.png\")\n",
    "plt.show()"
   ]
  },
  {
   "cell_type": "code",
   "execution_count": 8,
   "metadata": {},
   "outputs": [
    {
     "data": {
      "image/png": "[encoded data removed]",
      "text/plain": [
       "<Figure size 640x480 with 1 Axes>"
      ]
     },
     "metadata": {},
     "output_type": "display_data"
    }
   ],
   "source": [
    "plt.scatter(df['Precipitatiile zilnice medii'], df['Profit_medie'])\n",
    "\n",
    "# Set x and y axis labels\n",
    "plt.xlabel('Precipitatiile zilnice medii')\n",
    "plt.ylabel('Profit Mediu')\n",
    "\n",
    "# Set the title of the graph\n",
    "plt.title('Precipitatiile zilnice medii vs Cifra de Afaceri')\n",
    "plt.savefig(\"Grafic de dispersie între Precipitatiile zilnice medii și Profit mediu.png\")\n",
    "plt.show()"
   ]
  },
  {
   "cell_type": "code",
   "execution_count": 11,
   "metadata": {},
   "outputs": [
    {
     "name": "stdout",
     "output_type": "stream",
     "text": [
      "0.10070901595182731\n"
     ]
    }
   ],
   "source": [
    "\n",
    "correlation = df['Temperatura medie'].corr(df['Profit_medie'])\n",
    "print(correlation)"
   ]
  },
  {
   "cell_type": "code",
   "execution_count": 58,
   "metadata": {},
   "outputs": [
    {
     "data": {
      "text/plain": [
       "<Figure size 640x480 with 0 Axes>"
      ]
     },
     "metadata": {},
     "output_type": "display_data"
    }
   ],
   "source": [
    "plt.savefig(\"Grafic de dispersie între Altitudine și Cifra de Afacere.png\")"
   ]
  }
 ],
 "metadata": {
  "kernelspec": {
   "display_name": "Python 3",
   "language": "python",
   "name": "python3"
  },
  "language_info": {
   "codemirror_mode": {
    "name": "ipython",
    "version": 3
   },
   "file_extension": ".py",
   "mimetype": "text/x-python",
   "name": "python",
   "nbconvert_exporter": "python",
   "pygments_lexer": "ipython3",
   "version": "3.11.3"
  },
  "orig_nbformat": 4
 },
 "nbformat": 4,
 "nbformat_minor": 2
}
